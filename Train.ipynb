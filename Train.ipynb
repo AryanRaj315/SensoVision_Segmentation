{
 "cells": [
  {
   "cell_type": "code",
   "execution_count": 1,
   "metadata": {},
   "outputs": [],
   "source": [
    "import warnings\n",
    "warnings.filterwarnings(\"ignore\")\n",
    "\n",
    "import os\n",
    "import numpy as np\n",
    "import time\n",
    "import cv2\n",
    "from torch.optim.lr_scheduler import ReduceLROnPlateau, StepLR\n",
    "import torch\n",
    "import torch.nn as nn\n",
    "from torch.nn import functional as F\n",
    "import torch.backends.cudnn as cudnn\n",
    "import pandas as pd\n",
    "import torch.optim as optim\n",
    "import random\n",
    "import sys\n",
    "import matplotlib.pyplot as plt\n",
    "sys.path.insert(0, 'over9000/')\n",
    "from ralamb import Ralamb\n",
    "from radam import RAdam\n",
    "from ranger import Ranger\n",
    "from lookahead import LookaheadAdam\n",
    "from over9000 import Over9000\n",
    "from tqdm import tqdm_notebook as tqdm\n",
    "\n",
    "#For Transformations\n",
    "import cv2\n",
    "import glob\n",
    "import tifffile as tiff\n",
    "from torch.utils.data import Dataset, DataLoader, sampler\n",
    "import albumentations as aug\n",
    "from albumentations import (HorizontalFlip, VerticalFlip, ShiftScaleRotate, Normalize, Resize, Compose,Cutout, GaussNoise, RandomRotate90, Transpose, RandomBrightnessContrast, RandomCrop)\n",
    "from albumentations.pytorch import ToTensor\n",
    "from albumentations.augmentations.transforms import CropNonEmptyMaskIfExists\n",
    "\n",
    "# For Meter\n",
    "from sklearn.metrics import fbeta_score, precision_recall_fscore_support, accuracy_score\n",
    "from sklearn.metrics import jaccard_similarity_score as jaccard_score\n",
    "from sklearn.model_selection import train_test_split"
   ]
  },
  {
   "cell_type": "code",
   "execution_count": 2,
   "metadata": {},
   "outputs": [],
   "source": [
    "from tqdm import tqdm"
   ]
  },
  {
   "cell_type": "code",
   "execution_count": 53,
   "metadata": {},
   "outputs": [],
   "source": [
    "def seed_everything(seed):\n",
    "    random.seed(seed)\n",
    "    np.random.seed(seed)\n",
    "    os.environ['PYTHONHASHSEED'] = str(seed)\n",
    "    torch.manual_seed(seed)\n",
    "seed_everything(43)\n",
    "torch.backends.cudnn.deterministic = True\n",
    "torch.backends.cudnn.benchmark = False"
   ]
  },
  {
   "cell_type": "code",
   "execution_count": 54,
   "metadata": {},
   "outputs": [
    {
     "data": {
      "text/plain": [
       "<matplotlib.image.AxesImage at 0x7f95dfa823c8>"
      ]
     },
     "execution_count": 54,
     "metadata": {},
     "output_type": "execute_result"
    },
    {
     "data": {
      "image/png": "[encoded data removed]",
      "text/plain": [
       "<Figure size 432x288 with 1 Axes>"
      ]
     },
     "metadata": {
      "needs_background": "light"
     },
     "output_type": "display_data"
    }
   ],
   "source": [
    "img = cv2.imread('data/0.jpg')\n",
    "mask = cv2.imread('data/0.png')\n",
    "res = np.hstack([img, mask])\n",
    "plt.imshow(res)"
   ]
  },
  {
   "cell_type": "markdown",
   "metadata": {},
   "source": [
    "### Replace with whatever extension your mask has, as in our case it is png"
   ]
  },
  {
   "cell_type": "code",
   "execution_count": 212,
   "metadata": {},
   "outputs": [],
   "source": [
    "class SensoVisionDataset(Dataset):\n",
    "    def __init__(self, phase):\n",
    "        self.transforms = get_transforms(phase)\n",
    "        self.phase = phase\n",
    "        train = glob.glob('data/*.png')  # >>>>>>>>>>>>>>>> Replace here\n",
    "        self.train, self.val = train_test_split(train, test_size = 0.2)\n",
    "        self.dim = (256, 256)\n",
    "    def __getitem__(self, idx):\n",
    "        if self.phase == 'train':\n",
    "            img = cv2.imread(self.train[idx][:-3]+'jpg')\n",
    "            img = cv2.resize(img, self.dim, interpolation = cv2.INTER_NEAREST)  # Resizing to fit with EfficientNet\n",
    "            mask = cv2.imread(self.train[idx], 0)\n",
    "            mask = cv2.resize(mask, self.dim, interpolation = cv2.INTER_NEAREST)\n",
    "        else:\n",
    "            img = cv2.imread(self.val[idx][:-3]+'jpg')\n",
    "            img = cv2.resize(img, self.dim, interpolation = cv2.INTER_NEAREST)\n",
    "            mask = cv2.imread(self.val[idx], 0)\n",
    "            mask = cv2.resize(mask, self.dim, interpolation = cv2.INTER_NEAREST)\n",
    "        mask = (mask != 0)*255 \n",
    "        mask = mask.astype(np.uint8)\n",
    "        augmented = self.transforms(image=img, mask=mask)\n",
    "        img = augmented['image']\n",
    "        mask = augmented['mask']\n",
    "#         mask = mask[0].permute(2, 1, 0)\n",
    "        return img, mask\n",
    "\n",
    "    def __len__(self):\n",
    "        if self.phase == 'train':\n",
    "            return len(self.train)\n",
    "        else:\n",
    "            return len(self.val)"
   ]
  },
  {
   "cell_type": "code",
   "execution_count": 213,
   "metadata": {},
   "outputs": [],
   "source": [
    "def get_transforms(phase):\n",
    "    list_transforms = []\n",
    "    if phase == \"train\":\n",
    "        list_transforms.extend([\n",
    "             aug.Flip()\n",
    "            ])\n",
    "\n",
    "    list_transforms.extend(\n",
    "        [\n",
    "#             Normalize(mean=[0.485,0.456,0.406], std=[0.229,0.224,0.225], p=1),\n",
    "            ToTensor(),\n",
    "        ]\n",
    "    )\n",
    "    list_trfms = Compose(list_transforms)\n",
    "    return list_trfms"
   ]
  },
  {
   "cell_type": "code",
   "execution_count": 214,
   "metadata": {},
   "outputs": [],
   "source": [
    "def provider(phase, batch_size=8, num_workers=0):\n",
    "    '''Returns dataloader for the model training'''\n",
    "    if phase == 'train':\n",
    "        image_dataset = SensoVisionDataset(phase)\n",
    "    else:\n",
    "        image_dataset = SensoVisionDataset(phase)\n",
    "        \n",
    "    dataloader = DataLoader(\n",
    "        image_dataset,\n",
    "        batch_size=batch_size,\n",
    "        num_workers=num_workers,\n",
    "        pin_memory=False,\n",
    "        shuffle=True,   \n",
    "    )\n",
    "\n",
    "    return dataloader"
   ]
  },
  {
   "cell_type": "code",
   "execution_count": 215,
   "metadata": {},
   "outputs": [],
   "source": [
    "dl = provider('train')"
   ]
  },
  {
   "cell_type": "code",
   "execution_count": 216,
   "metadata": {},
   "outputs": [
    {
     "name": "stdout",
     "output_type": "stream",
     "text": [
      "torch.Size([8, 3, 256, 256])\n",
      "torch.Size([8, 1, 256, 256])\n"
     ]
    }
   ],
   "source": [
    "for img, mask in dl:\n",
    "    print(img.shape)\n",
    "    print(mask.shape)\n",
    "    break"
   ]
  },
  {
   "cell_type": "code",
   "execution_count": 217,
   "metadata": {},
   "outputs": [
    {
     "data": {
      "image/png": "[encoded data removed]",
      "text/plain": [
       "<Figure size 432x288 with 1 Axes>"
      ]
     },
     "metadata": {
      "needs_background": "light"
     },
     "output_type": "display_data"
    },
    {
     "data": {
      "image/png": "[encoded data removed]",
      "text/plain": [
       "<Figure size 432x288 with 1 Axes>"
      ]
     },
     "metadata": {
      "needs_background": "light"
     },
     "output_type": "display_data"
    },
    {
     "data": {
      "image/png": "[encoded data removed]",
      "text/plain": [
       "<Figure size 432x288 with 1 Axes>"
      ]
     },
     "metadata": {
      "needs_background": "light"
     },
     "output_type": "display_data"
    },
    {
     "data": {
      "image/png": "[encoded data removed]",
      "text/plain": [
       "<Figure size 432x288 with 1 Axes>"
      ]
     },
     "metadata": {
      "needs_background": "light"
     },
     "output_type": "display_data"
    },
    {
     "data": {
      "image/png": "[encoded data removed]",
      "text/plain": [
       "<Figure size 432x288 with 1 Axes>"
      ]
     },
     "metadata": {
      "needs_background": "light"
     },
     "output_type": "display_data"
    },
    {
     "data": {
      "image/png": "[encoded data removed]",
      "text/plain": [
       "<Figure size 432x288 with 1 Axes>"
      ]
     },
     "metadata": {
      "needs_background": "light"
     },
     "output_type": "display_data"
    },
    {
     "data": {
      "image/png": "[encoded data removed]",
      "text/plain": [
       "<Figure size 432x288 with 1 Axes>"
      ]
     },
     "metadata": {
      "needs_background": "light"
     },
     "output_type": "display_data"
    },
    {
     "data": {
      "image/png": "[encoded data removed]",
      "text/plain": [
       "<Figure size 432x288 with 1 Axes>"
      ]
     },
     "metadata": {
      "needs_background": "light"
     },
     "output_type": "display_data"
    },
    {
     "data": {
      "image/png": "[encoded data removed]",
      "text/plain": [
       "<Figure size 432x288 with 1 Axes>"
      ]
     },
     "metadata": {
      "needs_background": "light"
     },
     "output_type": "display_data"
    },
    {
     "data": {
      "image/png": "[encoded data removed]",
      "text/plain": [
       "<Figure size 432x288 with 1 Axes>"
      ]
     },
     "metadata": {
      "needs_background": "light"
     },
     "output_type": "display_data"
    },
    {
     "data": {
      "image/png": "[encoded data removed]",
      "text/plain": [
       "<Figure size 432x288 with 1 Axes>"
      ]
     },
     "metadata": {
      "needs_background": "light"
     },
     "output_type": "display_data"
    },
    {
     "data": {
      "image/png": "[encoded data removed]",
      "text/plain": [
       "<Figure size 432x288 with 1 Axes>"
      ]
     },
     "metadata": {
      "needs_background": "light"
     },
     "output_type": "display_data"
    },
    {
     "data": {
      "image/png": "[encoded data removed]",
      "text/plain": [
       "<Figure size 432x288 with 1 Axes>"
      ]
     },
     "metadata": {
      "needs_background": "light"
     },
     "output_type": "display_data"
    },
    {
     "data": {
      "image/png": "[encoded data removed]",
      "text/plain": [
       "<Figure size 432x288 with 1 Axes>"
      ]
     },
     "metadata": {
      "needs_background": "light"
     },
     "output_type": "display_data"
    },
    {
     "data": {
      "image/png": "[encoded data removed]",
      "text/plain": [
       "<Figure size 432x288 with 1 Axes>"
      ]
     },
     "metadata": {
      "needs_background": "light"
     },
     "output_type": "display_data"
    },
    {
     "data": {
      "image/png": "[encoded data removed]",
      "text/plain": [
       "<Figure size 432x288 with 1 Axes>"
      ]
     },
     "metadata": {
      "needs_background": "light"
     },
     "output_type": "display_data"
    }
   ],
   "source": [
    "for i in range(img.shape[0]):\n",
    "    image = img[i].permute(1, 2, 0).cpu().numpy()\n",
    "    msk = mask[i].squeeze(0).cpu().numpy()\n",
    "    plt.imshow(image)\n",
    "    plt.show()\n",
    "    plt.imshow(msk)\n",
    "    plt.show()"
   ]
  },
  {
   "cell_type": "code",
   "execution_count": 218,
   "metadata": {},
   "outputs": [],
   "source": [
    "class BCEDiceLoss(nn.Module):\n",
    "    __name__ = 'bce_dice_loss'\n",
    "\n",
    "    def __init__(self, eps=1e-7, beta=2., activation='sigmoid', ignore_channels=None, threshold=None):\n",
    "        super().__init__()\n",
    "        self.bce = nn.BCEWithLogitsLoss(reduction='mean')\n",
    "        self.beta = beta\n",
    "        self.eps = eps\n",
    "        self.threshold = threshold\n",
    "        self.ignore_channels = ignore_channels\n",
    "        self.activation = smp.utils.base.Activation(activation)\n",
    "\n",
    "    def forward(self, y_pr, y_gt):\n",
    "        bce = self.bce(y_pr, y_gt)\n",
    "        y_pr = self.activation(y_pr)\n",
    "        dice = 1 - smp.utils.functional.f_score(\n",
    "            y_pr, y_gt,\n",
    "            beta=self.beta,\n",
    "            eps=self.eps,\n",
    "            threshold=self.threshold,\n",
    "            ignore_channels=self.ignore_channels,\n",
    "        )\n",
    "        return dice + bce\n",
    "\n",
    "class DiceLoss(nn.Module):\n",
    "    __name__ = 'dice_loss'\n",
    "\n",
    "    def __init__(self, eps=1e-7, beta=2., activation='sigmoid', ignore_channels=None, threshold=None):\n",
    "        super().__init__()\n",
    "        self.beta = beta\n",
    "        self.eps = eps\n",
    "        self.threshold = threshold\n",
    "        self.ignore_channels = ignore_channels\n",
    "        self.activation = smp.utils.base.Activation(activation)\n",
    "\n",
    "    def forward(self, y_pr, y_gt):\n",
    "        y_pr = self.activation(y_pr)\n",
    "        dice = 1 - smp.utils.functional.f_score(\n",
    "            y_pr, y_gt,\n",
    "            beta=self.beta,\n",
    "            eps=self.eps,\n",
    "            threshold=self.threshold,\n",
    "            ignore_channels=self.ignore_channels,\n",
    "        )\n",
    "        return dice"
   ]
  },
  {
   "cell_type": "code",
   "execution_count": 219,
   "metadata": {},
   "outputs": [],
   "source": [
    "def single_dice_coef(y_true, y_pred_bin):\n",
    "    # shape of y_true and y_pred_bin: (height, width)\n",
    "    intersection = (y_true * y_pred_bin).sum()\n",
    "    if (y_true.sum()==0 and y_pred_bin.sum()==0):\n",
    "        return 1\n",
    "    return (2*intersection) / (y_true.sum() + y_pred_bin.sum())\n",
    "\n",
    "\n",
    "def dice_metric_train(y_pred_bin, y_true, threshold = 0.5):\n",
    "    y_pred_bin = (y_pred_bin>threshold).float()\n",
    "    y_true = y_true.float()\n",
    "    batch_size = y_true.shape[0]\n",
    "    channel_num = y_true.shape[1]\n",
    "    mean_dice_channel = 0.\n",
    "    for i in range(batch_size):\n",
    "        for j in range(channel_num):\n",
    "            channel_dice = single_dice_coef(y_true[i, j, ...],y_pred_bin[i, j, ...])\n",
    "            mean_dice_channel += channel_dice/(channel_num*batch_size)\n",
    "    return mean_dice_channel\n",
    "\n",
    "\n",
    "def dice_metric(y_pred_bin, y_true, threshold = 0.5):\n",
    "    y_pred_bin = (y_pred_bin>threshold).float().detach().cpu().numpy()\n",
    "    y_true = y_true.float().detach().cpu().numpy()\n",
    "    batch_size = y_true.shape[0]\n",
    "    dice = []\n",
    "    precision = []\n",
    "    recall = []\n",
    "    for i in range(batch_size):\n",
    "        p, r, fb_score, support = precision_recall_fscore_support( ((y_true[i]> 0).astype(np.uint8)).flatten(), ((y_pred_bin[i]> 0).astype(np.uint8)).flatten(), average='binary')\n",
    "        dice.append(fb_score)\n",
    "        precision.append(p)\n",
    "        recall.append(r)\n",
    "    return np.mean(dice), np.mean(precision), np.mean(recall)\n",
    "\n",
    "\n",
    "class Meter:\n",
    "    '''A meter to keep track of iou and dice scores throughout an epoch'''\n",
    "    def __init__(self, phase, epoch):\n",
    "        self.base_threshold = 0.5 # <<<<<<<<<<< here's the threshold\n",
    "        self.base_dice_scores = []\n",
    "        self.phase = phase\n",
    "\n",
    "\n",
    "    def update(self, targets, outputs):\n",
    "        probs = torch.sigmoid(outputs)\n",
    "        dice = dice_metric_train(probs, targets)\n",
    "        self.base_dice_scores.append(dice)\n",
    "        \n",
    "    def get_metrics(self):\n",
    "        dice = np.mean(self.base_dice_scores)\n",
    "        return dice\n",
    "\n",
    "def epoch_log(phase, epoch, epoch_loss, meter, start):\n",
    "    '''logging the metrics at the end of an epoch'''\n",
    "    dice = meter.get_metrics()\n",
    "    print(\"Loss: %0.4f | dice: %0.4f\" % (epoch_loss, dice))\n",
    "    return dice"
   ]
  },
  {
   "cell_type": "code",
   "execution_count": 220,
   "metadata": {},
   "outputs": [],
   "source": [
    "class Trainer(object):\n",
    "    '''This class takes care of training and validation of our model'''\n",
    "    def __init__(self,model, optim, loss, lr, bs, name, shape=512, crop_type=0):\n",
    "        self.num_workers = 4\n",
    "        self.batch_size = {\"train\": bs, \"val\": 1}\n",
    "        self.accumulation_steps = bs // self.batch_size['train']\n",
    "        self.lr = lr\n",
    "        self.loss = loss\n",
    "        self.optim = optim\n",
    "        self.num_epochs = 0\n",
    "        self.best_val_loss = 1\n",
    "        self.phases = [\"train\", \"val\"]\n",
    "        self.device = torch.device(\"cuda:0\")\n",
    "        torch.set_default_tensor_type(\"torch.cuda.FloatTensor\")\n",
    "        self.net = model\n",
    "        self.name = name\n",
    "        self.do_cutmix = True\n",
    "        self.loss_classification = torch.nn.CrossEntropyLoss()\n",
    "        if self.loss == 'BCE':\n",
    "            self.criterion = torch.nn.BCEWithLogitsLoss()\n",
    "        elif self.loss == 'BCE+DICE':\n",
    "            self.criterion = BCEDiceLoss(threshold=None)  #MODIFIED\n",
    "        elif self.loss == 'TVERSKY':\n",
    "            self.criterion = Tversky()\n",
    "        elif self.loss == 'Dice' or self.loss == 'DICE':\n",
    "            self.criterion = DiceLoss()\n",
    "        elif self.loss == 'BCE+DICE+JACCARD':\n",
    "            self.criterion = BCEDiceJaccardLoss(threshold=None)\n",
    "        else:\n",
    "            raise(Exception(f'{self.loss} is not recognized. Please provide a valid loss function.'))\n",
    "\n",
    "        # Optimizers\n",
    "        if self.optim == 'Over9000':\n",
    "            self.optimizer = Over9000(self.net.parameters(),lr=self.lr)\n",
    "        elif self.optim == 'Adam':\n",
    "            self.optimizer = torch.optim.Adam(self.net.parameters(),lr=self.lr)\n",
    "        elif self.optim == 'RAdam':\n",
    "            self.optimizer = Radam(self.net.parameters(),lr=self.lr)\n",
    "        elif self.optim == 'Ralamb':\n",
    "            self.optimizer = Ralamb(self.net.parameters(),lr=self.lr)\n",
    "        elif self.optim == 'Ranger':\n",
    "            self.optimizer = Ranger(self.net.parameters(),lr=self.lr)\n",
    "        elif self.optim == 'LookaheadAdam':\n",
    "            self.optimizer = LookaheadAdam(self.net.parameters(),lr=self.lr)\n",
    "        else:\n",
    "            raise(Exception(f'{self.optim} is not recognized. Please provide a valid optimizer function.'))\n",
    "            \n",
    "        self.scheduler = ReduceLROnPlateau(self.optimizer, factor=0.5, mode=\"min\", patience=4, verbose=True, min_lr = 1e-5)\n",
    "        self.net = self.net.to(self.device)\n",
    "        cudnn.benchmark = True\n",
    "        \n",
    "        self.dataloaders = {\n",
    "            phase: provider(\n",
    "                phase=phase,\n",
    "                num_workers=0,\n",
    "            )\n",
    "            for phase in self.phases\n",
    "        }\n",
    "        self.losses = {phase: [] for phase in self.phases}\n",
    "        self.dice_scores = {phase: [] for phase in self.phases}\n",
    "\n",
    "    def freeze(self):\n",
    "        for  name, param in self.net.encoder.named_parameters():\n",
    "            if name.find('bn') != -1:\n",
    "                param.requires_grad=True\n",
    "            else:\n",
    "                param.requires_grad=False\n",
    "                \n",
    "    def seed_everything(self, seed):\n",
    "        random.seed(seed)\n",
    "        os.environ['PYTHONHASHSEED'] = str(seed)\n",
    "        np.random.seed(seed)\n",
    "        torch.manual_seed(seed)\n",
    "        torch.cuda.manual_seed(seed)\n",
    "        torch.backends.cudnn.deterministic = True\n",
    "\n",
    "    def load_model(self, name, path='models/'):\n",
    "        state = torch.load(path+name, map_location=lambda storage, loc: storage)\n",
    "        self.net.load_state_dict(state['state_dict'])\n",
    "        self.optimizer.load_state_dict(state['optimizer'])\n",
    "        print(\"Loaded model with dice: \", state['best_dice'])\n",
    "            \n",
    "    def unfreeze(self):\n",
    "        for param in self.net.parameters():\n",
    "            param.requires_grad=True\n",
    "     \n",
    "    def forward(self, images, targets):\n",
    "        images = images.to(self.device)\n",
    "        targets = targets.to(self.device)\n",
    "        preds = self.net(images)\n",
    "        loss = self.criterion(preds, targets)\n",
    "        return loss, targets, preds\n",
    "    \n",
    "    def cutmix(self,batch, alpha):\n",
    "        data, targets = batch\n",
    "        indices = torch.randperm(data.size(0))\n",
    "        shuffled_data = data[indices]\n",
    "        shuffled_targets = targets[indices]\n",
    "        lam = np.random.beta(alpha, alpha)\n",
    "        image_h, image_w = data.shape[2:]\n",
    "        cx = np.random.uniform(0, image_w)\n",
    "        cy = np.random.uniform(0, image_h)\n",
    "        w = image_w * np.sqrt(1 - lam)\n",
    "        h = image_h * np.sqrt(1 - lam)\n",
    "        x0 = int(np.round(max(cx - w / 2, 0)))\n",
    "        x1 = int(np.round(min(cx + w / 2, image_w)))\n",
    "        y0 = int(np.round(max(cy - h / 2, 0)))\n",
    "        y1 = int(np.round(min(cy + h / 2, image_h)))\n",
    "        data[:, :, y0:y1, x0:x1] = shuffled_data[:, :, y0:y1, x0:x1]\n",
    "        targets[:, :, y0:y1, x0:x1] = shuffled_targets[:, :, y0:y1, x0:x1]\n",
    "        return data, targets\n",
    "\n",
    "    def iterate(self, epoch, phase):\n",
    "        meter = Meter(phase, epoch)\n",
    "        start = time.strftime(\"%H:%M:%S\")\n",
    "        print(f\"Starting epoch: {epoch} | phase: {phase} | ⏰: {start}\")\n",
    "        batch_size = self.batch_size[phase]\n",
    "        dataloader = self.dataloaders[phase]\n",
    "        running_loss = 0.0\n",
    "        total_batches = len(dataloader)\n",
    "        tk0 = tqdm(dataloader, total=total_batches)\n",
    "        self.optimizer.zero_grad()\n",
    "        for itr, batch in enumerate(tk0):\n",
    "            if phase == \"train\" and self.do_cutmix:\n",
    "                images, targets = self.cutmix(batch, 0.5)\n",
    "            else:\n",
    "                images, targets = batch\n",
    "            seg_loss, outputs, preds = self.forward(images, targets)\n",
    "            loss = seg_loss / self.accumulation_steps\n",
    "            if phase == \"train\":\n",
    "                loss.backward()\n",
    "                torch.nn.utils.clip_grad_norm_(self.net.parameters(), 1)\n",
    "                if (itr + 1 ) % self.accumulation_steps == 0:\n",
    "                    self.optimizer.step()\n",
    "                    self.optimizer.zero_grad()\n",
    "            running_loss += loss.item()\n",
    "            outputs = outputs.detach().cpu()\n",
    "            preds = preds.detach().cpu()\n",
    "            meter.update(targets, outputs)\n",
    "            tk0.set_postfix(loss=(running_loss / ((itr + 1))))\n",
    "        epoch_loss = (running_loss * self.accumulation_steps) / total_batches\n",
    "        dice = epoch_log(phase, epoch, epoch_loss, meter, start)\n",
    "        self.losses[phase].append(epoch_loss)\n",
    "        self.dice_scores[phase].append(dice)\n",
    "        torch.cuda.empty_cache()\n",
    "        return epoch_loss, dice\n",
    "\n",
    "    def train_end(self):\n",
    "        train_dice = self.dice_scores[\"train\"]\n",
    "        train_loss = self.losses[\"train\"]\n",
    "        \n",
    "        val_dice = self.dice_scores[\"val\"]\n",
    "        val_loss = self.losses[\"val\"]\n",
    "\n",
    "        df_data=np.array([train_loss,train_dice, val_loss,val_dice]).T\n",
    "        df = pd.DataFrame(df_data,columns = ['train_loss','train_dice', 'val_loss','val_dice'])\n",
    "        df.to_csv('logs/'+self.name+'.csv')\n",
    "\n",
    "    def fit(self, epochs):\n",
    "        self.num_epochs+=epochs\n",
    "        for epoch in range(self.num_epochs-epochs, self.num_epochs):\n",
    "            self.net.train()\n",
    "            self.iterate(epoch, \"train\")\n",
    "            state = {\n",
    "                \"epoch\": epoch,\n",
    "                \"best_loss\": self.best_val_loss,\n",
    "                \"state_dict\": self.net.state_dict(),\n",
    "                \"optimizer\": self.optimizer.state_dict(),\n",
    "            }\n",
    "            self.net.eval()\n",
    "            with torch.no_grad():\n",
    "                val_loss, val_dice = self.iterate(epoch, \"val\")\n",
    "                self.scheduler.step(val_loss)\n",
    "            if val_loss < self.best_val_loss:\n",
    "                print(\"* New optimal found according to Validation loss!, saving state *\")\n",
    "                state[\"best_loss\"] = self.best_val_loss = val_loss\n",
    "                os.makedirs('models/', exist_ok=True)\n",
    "                torch.save(state, 'models/'+self.name+'_best_loss.pth')\n",
    "            print()\n",
    "            self.train_end()"
   ]
  },
  {
   "cell_type": "code",
   "execution_count": 221,
   "metadata": {},
   "outputs": [],
   "source": [
    "import segmentation_models_pytorch as smp"
   ]
  },
  {
   "cell_type": "code",
   "execution_count": 236,
   "metadata": {},
   "outputs": [],
   "source": [
    "MODEL = 'FPN'   # >>>>>> Other options: FPN, Linknet\n",
    "ENCODER = 'efficientnet-b4'  # >>>>>> For other options: \n",
    "if(MODEL == 'Unet'):\n",
    "    model = smp.Unet(ENCODER, encoder_weights='imagenet', classes=1, activation=None)\n",
    "elif(MODEL == 'FPN'):\n",
    "    model = smp.FPN(ENCODER, encoder_weights='imagenet', classes=1, activation=None)\n",
    "elif(MODEL == 'Linknet'):\n",
    "    model = smp.Linknet(ENCODER, encoder_weights='imagenet', classes=1, activation=None)"
   ]
  },
  {
   "cell_type": "code",
   "execution_count": 237,
   "metadata": {},
   "outputs": [
    {
     "name": "stderr",
     "output_type": "stream",
     "text": [
      "\r",
      "  0%|          | 0/11 [00:00<?, ?it/s]"
     ]
    },
    {
     "name": "stdout",
     "output_type": "stream",
     "text": [
      "Starting epoch: 0 | phase: train | ⏰: 06:17:45\n"
     ]
    },
    {
     "name": "stderr",
     "output_type": "stream",
     "text": [
      "100%|██████████| 11/11 [00:05<00:00,  1.91it/s, loss=0.778]\n",
      " 67%|██████▋   | 2/3 [00:00<00:00, 12.55it/s, loss=0.619]"
     ]
    },
    {
     "name": "stdout",
     "output_type": "stream",
     "text": [
      "Loss: 0.7778 | dice: 1.0000\n",
      "Starting epoch: 0 | phase: val | ⏰: 06:17:50\n"
     ]
    },
    {
     "name": "stderr",
     "output_type": "stream",
     "text": [
      "100%|██████████| 3/3 [00:00<00:00,  3.69it/s, loss=0.619]\n"
     ]
    },
    {
     "name": "stdout",
     "output_type": "stream",
     "text": [
      "Loss: 0.6190 | dice: 1.0000\n",
      "* New optimal found according to Validation loss!, saving state *\n"
     ]
    },
    {
     "name": "stderr",
     "output_type": "stream",
     "text": [
      "\r",
      "  0%|          | 0/11 [00:00<?, ?it/s]"
     ]
    },
    {
     "name": "stdout",
     "output_type": "stream",
     "text": [
      "\n",
      "Starting epoch: 1 | phase: train | ⏰: 06:17:52\n"
     ]
    },
    {
     "name": "stderr",
     "output_type": "stream",
     "text": [
      "100%|██████████| 11/11 [00:02<00:00,  4.47it/s, loss=0.524]\n",
      " 67%|██████▋   | 2/3 [00:00<00:00, 12.38it/s, loss=0.538]"
     ]
    },
    {
     "name": "stdout",
     "output_type": "stream",
     "text": [
      "Loss: 0.5242 | dice: 1.0000\n",
      "Starting epoch: 1 | phase: val | ⏰: 06:17:55\n"
     ]
    },
    {
     "name": "stderr",
     "output_type": "stream",
     "text": [
      "100%|██████████| 3/3 [00:00<00:00, 13.38it/s, loss=0.539]\n"
     ]
    },
    {
     "name": "stdout",
     "output_type": "stream",
     "text": [
      "Loss: 0.5387 | dice: 1.0000\n",
      "* New optimal found according to Validation loss!, saving state *\n"
     ]
    },
    {
     "name": "stderr",
     "output_type": "stream",
     "text": [
      "\r",
      "  0%|          | 0/11 [00:00<?, ?it/s]"
     ]
    },
    {
     "name": "stdout",
     "output_type": "stream",
     "text": [
      "\n",
      "Starting epoch: 2 | phase: train | ⏰: 06:17:56\n"
     ]
    },
    {
     "name": "stderr",
     "output_type": "stream",
     "text": [
      "100%|██████████| 11/11 [00:02<00:00,  4.44it/s, loss=0.229]\n",
      " 67%|██████▋   | 2/3 [00:00<00:00, 12.43it/s, loss=0.609]"
     ]
    },
    {
     "name": "stdout",
     "output_type": "stream",
     "text": [
      "Loss: 0.2292 | dice: 1.0000\n",
      "Starting epoch: 2 | phase: val | ⏰: 06:17:58\n"
     ]
    },
    {
     "name": "stderr",
     "output_type": "stream",
     "text": [
      "100%|██████████| 3/3 [00:00<00:00, 13.45it/s, loss=0.528]\n"
     ]
    },
    {
     "name": "stdout",
     "output_type": "stream",
     "text": [
      "Loss: 0.5279 | dice: 1.0000\n",
      "* New optimal found according to Validation loss!, saving state *\n"
     ]
    },
    {
     "name": "stderr",
     "output_type": "stream",
     "text": [
      "\r",
      "  0%|          | 0/11 [00:00<?, ?it/s]"
     ]
    },
    {
     "name": "stdout",
     "output_type": "stream",
     "text": [
      "\n",
      "Starting epoch: 3 | phase: train | ⏰: 06:17:59\n"
     ]
    },
    {
     "name": "stderr",
     "output_type": "stream",
     "text": [
      "100%|██████████| 11/11 [00:02<00:00,  4.47it/s, loss=0.122]\n",
      " 67%|██████▋   | 2/3 [00:00<00:00, 12.40it/s, loss=0.466]"
     ]
    },
    {
     "name": "stdout",
     "output_type": "stream",
     "text": [
      "Loss: 0.1217 | dice: 1.0000\n",
      "Starting epoch: 3 | phase: val | ⏰: 06:18:01\n"
     ]
    },
    {
     "name": "stderr",
     "output_type": "stream",
     "text": [
      "100%|██████████| 3/3 [00:00<00:00, 13.38it/s, loss=0.557]\n",
      "  0%|          | 0/11 [00:00<?, ?it/s]"
     ]
    },
    {
     "name": "stdout",
     "output_type": "stream",
     "text": [
      "Loss: 0.5567 | dice: 1.0000\n",
      "\n",
      "Starting epoch: 4 | phase: train | ⏰: 06:18:02\n"
     ]
    },
    {
     "name": "stderr",
     "output_type": "stream",
     "text": [
      "100%|██████████| 11/11 [00:02<00:00,  4.48it/s, loss=0.0954]\n",
      " 67%|██████▋   | 2/3 [00:00<00:00, 12.56it/s, loss=0.671]"
     ]
    },
    {
     "name": "stdout",
     "output_type": "stream",
     "text": [
      "Loss: 0.0954 | dice: 1.0000\n",
      "Starting epoch: 4 | phase: val | ⏰: 06:18:04\n"
     ]
    },
    {
     "name": "stderr",
     "output_type": "stream",
     "text": [
      "100%|██████████| 3/3 [00:00<00:00, 13.56it/s, loss=0.621]\n",
      "  0%|          | 0/11 [00:00<?, ?it/s]"
     ]
    },
    {
     "name": "stdout",
     "output_type": "stream",
     "text": [
      "Loss: 0.6212 | dice: 1.0000\n",
      "\n",
      "Starting epoch: 5 | phase: train | ⏰: 06:18:04\n"
     ]
    },
    {
     "name": "stderr",
     "output_type": "stream",
     "text": [
      "100%|██████████| 11/11 [00:02<00:00,  4.49it/s, loss=0.093] \n",
      " 67%|██████▋   | 2/3 [00:00<00:00, 12.56it/s, loss=0.488]"
     ]
    },
    {
     "name": "stdout",
     "output_type": "stream",
     "text": [
      "Loss: 0.0930 | dice: 1.0000\n",
      "Starting epoch: 5 | phase: val | ⏰: 06:18:07\n"
     ]
    },
    {
     "name": "stderr",
     "output_type": "stream",
     "text": [
      "100%|██████████| 3/3 [00:00<00:00, 13.56it/s, loss=0.433]\n"
     ]
    },
    {
     "name": "stdout",
     "output_type": "stream",
     "text": [
      "Loss: 0.4325 | dice: 1.0000\n",
      "* New optimal found according to Validation loss!, saving state *\n"
     ]
    },
    {
     "name": "stderr",
     "output_type": "stream",
     "text": [
      "\r",
      "  0%|          | 0/11 [00:00<?, ?it/s]"
     ]
    },
    {
     "name": "stdout",
     "output_type": "stream",
     "text": [
      "\n",
      "Starting epoch: 6 | phase: train | ⏰: 06:18:08\n"
     ]
    },
    {
     "name": "stderr",
     "output_type": "stream",
     "text": [
      "100%|██████████| 11/11 [00:02<00:00,  4.47it/s, loss=0.0669]\n",
      " 67%|██████▋   | 2/3 [00:00<00:00, 12.30it/s, loss=0.364]"
     ]
    },
    {
     "name": "stdout",
     "output_type": "stream",
     "text": [
      "Loss: 0.0669 | dice: 1.0000\n",
      "Starting epoch: 6 | phase: val | ⏰: 06:18:11\n"
     ]
    },
    {
     "name": "stderr",
     "output_type": "stream",
     "text": [
      "100%|██████████| 3/3 [00:00<00:00, 13.28it/s, loss=0.325]\n"
     ]
    },
    {
     "name": "stdout",
     "output_type": "stream",
     "text": [
      "Loss: 0.3253 | dice: 1.0000\n",
      "* New optimal found according to Validation loss!, saving state *\n"
     ]
    },
    {
     "name": "stderr",
     "output_type": "stream",
     "text": [
      "\r",
      "  0%|          | 0/11 [00:00<?, ?it/s]"
     ]
    },
    {
     "name": "stdout",
     "output_type": "stream",
     "text": [
      "\n",
      "Starting epoch: 7 | phase: train | ⏰: 06:18:11\n"
     ]
    },
    {
     "name": "stderr",
     "output_type": "stream",
     "text": [
      "100%|██████████| 11/11 [00:02<00:00,  4.46it/s, loss=0.0618]\n",
      "  0%|          | 0/3 [00:00<?, ?it/s, loss=0.229]"
     ]
    },
    {
     "name": "stdout",
     "output_type": "stream",
     "text": [
      "Loss: 0.0618 | dice: 1.0000\n",
      "Starting epoch: 7 | phase: val | ⏰: 06:18:14\n"
     ]
    },
    {
     "name": "stderr",
     "output_type": "stream",
     "text": [
      "100%|██████████| 3/3 [00:00<00:00, 13.36it/s, loss=0.26] \n"
     ]
    },
    {
     "name": "stdout",
     "output_type": "stream",
     "text": [
      "Loss: 0.2597 | dice: 1.0000\n",
      "* New optimal found according to Validation loss!, saving state *\n"
     ]
    },
    {
     "name": "stderr",
     "output_type": "stream",
     "text": [
      "\r",
      "  0%|          | 0/11 [00:00<?, ?it/s]"
     ]
    },
    {
     "name": "stdout",
     "output_type": "stream",
     "text": [
      "\n",
      "Starting epoch: 8 | phase: train | ⏰: 06:18:15\n"
     ]
    },
    {
     "name": "stderr",
     "output_type": "stream",
     "text": [
      "100%|██████████| 11/11 [00:02<00:00,  4.41it/s, loss=0.0608]\n",
      " 67%|██████▋   | 2/3 [00:00<00:00, 12.47it/s, loss=0.282]"
     ]
    },
    {
     "name": "stdout",
     "output_type": "stream",
     "text": [
      "Loss: 0.0608 | dice: 1.0000\n",
      "Starting epoch: 8 | phase: val | ⏰: 06:18:18\n"
     ]
    },
    {
     "name": "stderr",
     "output_type": "stream",
     "text": [
      "100%|██████████| 3/3 [00:00<00:00, 13.47it/s, loss=0.27] \n",
      "  0%|          | 0/11 [00:00<?, ?it/s]"
     ]
    },
    {
     "name": "stdout",
     "output_type": "stream",
     "text": [
      "Loss: 0.2701 | dice: 1.0000\n",
      "\n",
      "Starting epoch: 9 | phase: train | ⏰: 06:18:18\n"
     ]
    },
    {
     "name": "stderr",
     "output_type": "stream",
     "text": [
      "100%|██████████| 11/11 [00:02<00:00,  4.45it/s, loss=0.0545]\n",
      " 67%|██████▋   | 2/3 [00:00<00:00, 12.38it/s, loss=0.229]"
     ]
    },
    {
     "name": "stdout",
     "output_type": "stream",
     "text": [
      "Loss: 0.0545 | dice: 1.0000\n",
      "Starting epoch: 9 | phase: val | ⏰: 06:18:20\n"
     ]
    },
    {
     "name": "stderr",
     "output_type": "stream",
     "text": [
      "100%|██████████| 3/3 [00:00<00:00, 13.33it/s, loss=0.228]\n"
     ]
    },
    {
     "name": "stdout",
     "output_type": "stream",
     "text": [
      "Loss: 0.2280 | dice: 1.0000\n",
      "* New optimal found according to Validation loss!, saving state *\n"
     ]
    },
    {
     "name": "stderr",
     "output_type": "stream",
     "text": [
      "\r",
      "  0%|          | 0/11 [00:00<?, ?it/s]"
     ]
    },
    {
     "name": "stdout",
     "output_type": "stream",
     "text": [
      "\n",
      "Starting epoch: 10 | phase: train | ⏰: 06:18:21\n"
     ]
    },
    {
     "name": "stderr",
     "output_type": "stream",
     "text": [
      "100%|██████████| 11/11 [00:04<00:00,  2.60it/s, loss=0.0638]\n",
      " 67%|██████▋   | 2/3 [00:00<00:00, 12.29it/s, loss=0.187]"
     ]
    },
    {
     "name": "stdout",
     "output_type": "stream",
     "text": [
      "Loss: 0.0638 | dice: 1.0000\n",
      "Starting epoch: 10 | phase: val | ⏰: 06:18:25\n"
     ]
    },
    {
     "name": "stderr",
     "output_type": "stream",
     "text": [
      "100%|██████████| 3/3 [00:00<00:00, 13.34it/s, loss=0.19] \n"
     ]
    },
    {
     "name": "stdout",
     "output_type": "stream",
     "text": [
      "Loss: 0.1899 | dice: 1.0000\n",
      "* New optimal found according to Validation loss!, saving state *\n"
     ]
    },
    {
     "name": "stderr",
     "output_type": "stream",
     "text": [
      "\r",
      "  0%|          | 0/11 [00:00<?, ?it/s]"
     ]
    },
    {
     "name": "stdout",
     "output_type": "stream",
     "text": [
      "\n",
      "Starting epoch: 11 | phase: train | ⏰: 06:18:28\n"
     ]
    },
    {
     "name": "stderr",
     "output_type": "stream",
     "text": [
      "100%|██████████| 11/11 [00:03<00:00,  3.06it/s, loss=0.0881]\n",
      " 67%|██████▋   | 2/3 [00:00<00:00, 12.35it/s, loss=0.156]"
     ]
    },
    {
     "name": "stdout",
     "output_type": "stream",
     "text": [
      "Loss: 0.0881 | dice: 1.0000\n",
      "Starting epoch: 11 | phase: val | ⏰: 06:18:32\n"
     ]
    },
    {
     "name": "stderr",
     "output_type": "stream",
     "text": [
      "100%|██████████| 3/3 [00:00<00:00, 13.38it/s, loss=0.148]\n"
     ]
    },
    {
     "name": "stdout",
     "output_type": "stream",
     "text": [
      "Loss: 0.1485 | dice: 1.0000\n",
      "* New optimal found according to Validation loss!, saving state *\n"
     ]
    },
    {
     "name": "stderr",
     "output_type": "stream",
     "text": [
      "\r",
      "  0%|          | 0/11 [00:00<?, ?it/s]"
     ]
    },
    {
     "name": "stdout",
     "output_type": "stream",
     "text": [
      "\n",
      "Starting epoch: 12 | phase: train | ⏰: 06:18:35\n"
     ]
    },
    {
     "name": "stderr",
     "output_type": "stream",
     "text": [
      "100%|██████████| 11/11 [00:03<00:00,  3.06it/s, loss=0.059] \n",
      " 67%|██████▋   | 2/3 [00:00<00:00, 12.53it/s, loss=0.159]"
     ]
    },
    {
     "name": "stdout",
     "output_type": "stream",
     "text": [
      "Loss: 0.0590 | dice: 1.0000\n",
      "Starting epoch: 12 | phase: val | ⏰: 06:18:38\n"
     ]
    },
    {
     "name": "stderr",
     "output_type": "stream",
     "text": [
      "100%|██████████| 3/3 [00:00<00:00, 13.58it/s, loss=0.16] \n",
      "  0%|          | 0/11 [00:00<?, ?it/s]"
     ]
    },
    {
     "name": "stdout",
     "output_type": "stream",
     "text": [
      "Loss: 0.1598 | dice: 1.0000\n",
      "\n",
      "Starting epoch: 13 | phase: train | ⏰: 06:18:38\n"
     ]
    },
    {
     "name": "stderr",
     "output_type": "stream",
     "text": [
      "100%|██████████| 11/11 [00:03<00:00,  3.15it/s, loss=0.0523]\n",
      " 67%|██████▋   | 2/3 [00:00<00:00, 12.46it/s, loss=0.126]"
     ]
    },
    {
     "name": "stdout",
     "output_type": "stream",
     "text": [
      "Loss: 0.0523 | dice: 1.0000\n",
      "Starting epoch: 13 | phase: val | ⏰: 06:18:42\n"
     ]
    },
    {
     "name": "stderr",
     "output_type": "stream",
     "text": [
      "100%|██████████| 3/3 [00:00<00:00, 13.49it/s, loss=0.118]\n"
     ]
    },
    {
     "name": "stdout",
     "output_type": "stream",
     "text": [
      "Loss: 0.1184 | dice: 1.0000\n",
      "* New optimal found according to Validation loss!, saving state *\n"
     ]
    },
    {
     "name": "stderr",
     "output_type": "stream",
     "text": [
      "\r",
      "  0%|          | 0/11 [00:00<?, ?it/s]"
     ]
    },
    {
     "name": "stdout",
     "output_type": "stream",
     "text": [
      "\n",
      "Starting epoch: 14 | phase: train | ⏰: 06:18:45\n"
     ]
    },
    {
     "name": "stderr",
     "output_type": "stream",
     "text": [
      "100%|██████████| 11/11 [00:03<00:00,  3.12it/s, loss=0.0482]\n",
      " 67%|██████▋   | 2/3 [00:00<00:00, 12.11it/s, loss=0.0983]"
     ]
    },
    {
     "name": "stdout",
     "output_type": "stream",
     "text": [
      "Loss: 0.0482 | dice: 1.0000\n",
      "Starting epoch: 14 | phase: val | ⏰: 06:18:48\n"
     ]
    },
    {
     "name": "stderr",
     "output_type": "stream",
     "text": [
      "100%|██████████| 3/3 [00:00<00:00, 13.18it/s, loss=0.0922]\n"
     ]
    },
    {
     "name": "stdout",
     "output_type": "stream",
     "text": [
      "Loss: 0.0922 | dice: 1.0000\n",
      "* New optimal found according to Validation loss!, saving state *\n"
     ]
    },
    {
     "name": "stderr",
     "output_type": "stream",
     "text": [
      "\r",
      "  0%|          | 0/11 [00:00<?, ?it/s]"
     ]
    },
    {
     "name": "stdout",
     "output_type": "stream",
     "text": [
      "\n",
      "Starting epoch: 15 | phase: train | ⏰: 06:18:51\n"
     ]
    },
    {
     "name": "stderr",
     "output_type": "stream",
     "text": [
      "100%|██████████| 11/11 [00:03<00:00,  3.11it/s, loss=0.049] \n",
      " 67%|██████▋   | 2/3 [00:00<00:00, 12.50it/s, loss=0.0871]"
     ]
    },
    {
     "name": "stdout",
     "output_type": "stream",
     "text": [
      "Loss: 0.0490 | dice: 1.0000\n",
      "Starting epoch: 15 | phase: val | ⏰: 06:18:55\n"
     ]
    },
    {
     "name": "stderr",
     "output_type": "stream",
     "text": [
      "100%|██████████| 3/3 [00:00<00:00, 13.49it/s, loss=0.0915]\n"
     ]
    },
    {
     "name": "stdout",
     "output_type": "stream",
     "text": [
      "Loss: 0.0915 | dice: 1.0000\n",
      "* New optimal found according to Validation loss!, saving state *\n"
     ]
    },
    {
     "name": "stderr",
     "output_type": "stream",
     "text": [
      "\r",
      "  0%|          | 0/11 [00:00<?, ?it/s]"
     ]
    },
    {
     "name": "stdout",
     "output_type": "stream",
     "text": [
      "\n",
      "Starting epoch: 16 | phase: train | ⏰: 06:18:57\n"
     ]
    },
    {
     "name": "stderr",
     "output_type": "stream",
     "text": [
      "100%|██████████| 11/11 [00:03<00:00,  3.11it/s, loss=0.0459]\n",
      " 67%|██████▋   | 2/3 [00:00<00:00, 12.51it/s, loss=0.0811]"
     ]
    },
    {
     "name": "stdout",
     "output_type": "stream",
     "text": [
      "Loss: 0.0459 | dice: 1.0000\n",
      "Starting epoch: 16 | phase: val | ⏰: 06:19:01\n"
     ]
    },
    {
     "name": "stderr",
     "output_type": "stream",
     "text": [
      "100%|██████████| 3/3 [00:00<00:00, 13.55it/s, loss=0.0793]\n"
     ]
    },
    {
     "name": "stdout",
     "output_type": "stream",
     "text": [
      "Loss: 0.0793 | dice: 1.0000\n",
      "* New optimal found according to Validation loss!, saving state *\n"
     ]
    },
    {
     "name": "stderr",
     "output_type": "stream",
     "text": [
      "\r",
      "  0%|          | 0/11 [00:00<?, ?it/s]"
     ]
    },
    {
     "name": "stdout",
     "output_type": "stream",
     "text": [
      "\n",
      "Starting epoch: 17 | phase: train | ⏰: 06:19:04\n"
     ]
    },
    {
     "name": "stderr",
     "output_type": "stream",
     "text": [
      "100%|██████████| 11/11 [00:03<00:00,  3.08it/s, loss=0.0429]\n",
      " 67%|██████▋   | 2/3 [00:00<00:00, 12.32it/s, loss=0.0588]"
     ]
    },
    {
     "name": "stdout",
     "output_type": "stream",
     "text": [
      "Loss: 0.0429 | dice: 1.0000\n",
      "Starting epoch: 17 | phase: val | ⏰: 06:19:07\n"
     ]
    },
    {
     "name": "stderr",
     "output_type": "stream",
     "text": [
      "100%|██████████| 3/3 [00:00<00:00, 13.36it/s, loss=0.054] \n"
     ]
    },
    {
     "name": "stdout",
     "output_type": "stream",
     "text": [
      "Loss: 0.0540 | dice: 1.0000\n",
      "* New optimal found according to Validation loss!, saving state *\n"
     ]
    },
    {
     "name": "stderr",
     "output_type": "stream",
     "text": [
      "\r",
      "  0%|          | 0/11 [00:00<?, ?it/s]"
     ]
    },
    {
     "name": "stdout",
     "output_type": "stream",
     "text": [
      "\n",
      "Starting epoch: 18 | phase: train | ⏰: 06:19:10\n"
     ]
    },
    {
     "name": "stderr",
     "output_type": "stream",
     "text": [
      "100%|██████████| 11/11 [00:03<00:00,  3.11it/s, loss=0.0431]\n",
      " 67%|██████▋   | 2/3 [00:00<00:00, 12.42it/s, loss=0.0673]"
     ]
    },
    {
     "name": "stdout",
     "output_type": "stream",
     "text": [
      "Loss: 0.0431 | dice: 1.0000\n",
      "Starting epoch: 18 | phase: val | ⏰: 06:19:14\n"
     ]
    },
    {
     "name": "stderr",
     "output_type": "stream",
     "text": [
      "100%|██████████| 3/3 [00:00<00:00, 13.44it/s, loss=0.0755]\n",
      "  0%|          | 0/11 [00:00<?, ?it/s]"
     ]
    },
    {
     "name": "stdout",
     "output_type": "stream",
     "text": [
      "Loss: 0.0755 | dice: 1.0000\n",
      "\n",
      "Starting epoch: 19 | phase: train | ⏰: 06:19:14\n"
     ]
    },
    {
     "name": "stderr",
     "output_type": "stream",
     "text": [
      "100%|██████████| 11/11 [00:03<00:00,  3.15it/s, loss=0.0453]\n",
      " 67%|██████▋   | 2/3 [00:00<00:00, 12.35it/s, loss=0.0791]"
     ]
    },
    {
     "name": "stdout",
     "output_type": "stream",
     "text": [
      "Loss: 0.0453 | dice: 1.0000\n",
      "Starting epoch: 19 | phase: val | ⏰: 06:19:18\n"
     ]
    },
    {
     "name": "stderr",
     "output_type": "stream",
     "text": [
      "100%|██████████| 3/3 [00:00<00:00, 13.38it/s, loss=0.0773]\n",
      "  0%|          | 0/11 [00:00<?, ?it/s]"
     ]
    },
    {
     "name": "stdout",
     "output_type": "stream",
     "text": [
      "Loss: 0.0773 | dice: 1.0000\n",
      "\n",
      "Starting epoch: 20 | phase: train | ⏰: 06:19:18\n"
     ]
    },
    {
     "name": "stderr",
     "output_type": "stream",
     "text": [
      "100%|██████████| 11/11 [00:03<00:00,  3.15it/s, loss=0.0414]\n",
      " 67%|██████▋   | 2/3 [00:00<00:00, 12.22it/s, loss=0.0453]"
     ]
    },
    {
     "name": "stdout",
     "output_type": "stream",
     "text": [
      "Loss: 0.0414 | dice: 1.0000\n",
      "Starting epoch: 20 | phase: val | ⏰: 06:19:21\n"
     ]
    },
    {
     "name": "stderr",
     "output_type": "stream",
     "text": [
      "100%|██████████| 3/3 [00:00<00:00, 13.19it/s, loss=0.0495]\n"
     ]
    },
    {
     "name": "stdout",
     "output_type": "stream",
     "text": [
      "Loss: 0.0495 | dice: 1.0000\n",
      "* New optimal found according to Validation loss!, saving state *\n"
     ]
    },
    {
     "name": "stderr",
     "output_type": "stream",
     "text": [
      "\r",
      "  0%|          | 0/11 [00:00<?, ?it/s]"
     ]
    },
    {
     "name": "stdout",
     "output_type": "stream",
     "text": [
      "\n",
      "Starting epoch: 21 | phase: train | ⏰: 06:19:24\n"
     ]
    },
    {
     "name": "stderr",
     "output_type": "stream",
     "text": [
      "100%|██████████| 11/11 [00:03<00:00,  3.07it/s, loss=0.0401]\n",
      " 67%|██████▋   | 2/3 [00:00<00:00, 12.29it/s, loss=0.0545]"
     ]
    },
    {
     "name": "stdout",
     "output_type": "stream",
     "text": [
      "Loss: 0.0401 | dice: 1.0000\n",
      "Starting epoch: 21 | phase: val | ⏰: 06:19:28\n"
     ]
    },
    {
     "name": "stderr",
     "output_type": "stream",
     "text": [
      "100%|██████████| 3/3 [00:00<00:00, 13.34it/s, loss=0.0545]\n",
      "  0%|          | 0/11 [00:00<?, ?it/s]"
     ]
    },
    {
     "name": "stdout",
     "output_type": "stream",
     "text": [
      "Loss: 0.0545 | dice: 1.0000\n",
      "\n",
      "Starting epoch: 22 | phase: train | ⏰: 06:19:28\n"
     ]
    },
    {
     "name": "stderr",
     "output_type": "stream",
     "text": [
      "100%|██████████| 11/11 [00:03<00:00,  3.13it/s, loss=0.0397]\n",
      " 67%|██████▋   | 2/3 [00:00<00:00, 12.30it/s, loss=0.0463]"
     ]
    },
    {
     "name": "stdout",
     "output_type": "stream",
     "text": [
      "Loss: 0.0397 | dice: 1.0000\n",
      "Starting epoch: 22 | phase: val | ⏰: 06:19:32\n"
     ]
    },
    {
     "name": "stderr",
     "output_type": "stream",
     "text": [
      "100%|██████████| 3/3 [00:00<00:00, 13.28it/s, loss=0.0418]\n"
     ]
    },
    {
     "name": "stdout",
     "output_type": "stream",
     "text": [
      "Loss: 0.0418 | dice: 1.0000\n",
      "* New optimal found according to Validation loss!, saving state *\n"
     ]
    },
    {
     "name": "stderr",
     "output_type": "stream",
     "text": [
      "\r",
      "  0%|          | 0/11 [00:00<?, ?it/s]"
     ]
    },
    {
     "name": "stdout",
     "output_type": "stream",
     "text": [
      "\n",
      "Starting epoch: 23 | phase: train | ⏰: 06:19:34\n"
     ]
    },
    {
     "name": "stderr",
     "output_type": "stream",
     "text": [
      "100%|██████████| 11/11 [00:03<00:00,  3.05it/s, loss=0.0387]\n",
      " 67%|██████▋   | 2/3 [00:00<00:00, 12.30it/s, loss=0.0332]"
     ]
    },
    {
     "name": "stdout",
     "output_type": "stream",
     "text": [
      "Loss: 0.0387 | dice: 1.0000\n",
      "Starting epoch: 23 | phase: val | ⏰: 06:19:38\n"
     ]
    },
    {
     "name": "stderr",
     "output_type": "stream",
     "text": [
      "100%|██████████| 3/3 [00:00<00:00, 13.28it/s, loss=0.0336]\n"
     ]
    },
    {
     "name": "stdout",
     "output_type": "stream",
     "text": [
      "Loss: 0.0336 | dice: 1.0000\n",
      "* New optimal found according to Validation loss!, saving state *\n"
     ]
    },
    {
     "name": "stderr",
     "output_type": "stream",
     "text": [
      "\r",
      "  0%|          | 0/11 [00:00<?, ?it/s]"
     ]
    },
    {
     "name": "stdout",
     "output_type": "stream",
     "text": [
      "\n",
      "Starting epoch: 24 | phase: train | ⏰: 06:19:41\n"
     ]
    },
    {
     "name": "stderr",
     "output_type": "stream",
     "text": [
      "100%|██████████| 11/11 [00:03<00:00,  3.10it/s, loss=0.0363]\n",
      " 67%|██████▋   | 2/3 [00:00<00:00, 12.29it/s, loss=0.03]"
     ]
    },
    {
     "name": "stdout",
     "output_type": "stream",
     "text": [
      "Loss: 0.0363 | dice: 1.0000\n",
      "Starting epoch: 24 | phase: val | ⏰: 06:19:44\n"
     ]
    },
    {
     "name": "stderr",
     "output_type": "stream",
     "text": [
      "100%|██████████| 3/3 [00:00<00:00, 13.21it/s, loss=0.0291]\n"
     ]
    },
    {
     "name": "stdout",
     "output_type": "stream",
     "text": [
      "Loss: 0.0291 | dice: 1.0000\n",
      "* New optimal found according to Validation loss!, saving state *\n"
     ]
    },
    {
     "name": "stderr",
     "output_type": "stream",
     "text": [
      "\r",
      "  0%|          | 0/11 [00:00<?, ?it/s]"
     ]
    },
    {
     "name": "stdout",
     "output_type": "stream",
     "text": [
      "\n",
      "Starting epoch: 25 | phase: train | ⏰: 06:19:47\n"
     ]
    },
    {
     "name": "stderr",
     "output_type": "stream",
     "text": [
      "100%|██████████| 11/11 [00:03<00:00,  3.05it/s, loss=0.0347]\n",
      " 67%|██████▋   | 2/3 [00:00<00:00, 12.28it/s, loss=0.0259]"
     ]
    },
    {
     "name": "stdout",
     "output_type": "stream",
     "text": [
      "Loss: 0.0347 | dice: 1.0000\n",
      "Starting epoch: 25 | phase: val | ⏰: 06:19:51\n"
     ]
    },
    {
     "name": "stderr",
     "output_type": "stream",
     "text": [
      "100%|██████████| 3/3 [00:00<00:00, 13.32it/s, loss=0.0264]\n"
     ]
    },
    {
     "name": "stdout",
     "output_type": "stream",
     "text": [
      "Loss: 0.0264 | dice: 1.0000\n",
      "* New optimal found according to Validation loss!, saving state *\n"
     ]
    },
    {
     "name": "stderr",
     "output_type": "stream",
     "text": [
      "\r",
      "  0%|          | 0/11 [00:00<?, ?it/s]"
     ]
    },
    {
     "name": "stdout",
     "output_type": "stream",
     "text": [
      "\n",
      "Starting epoch: 26 | phase: train | ⏰: 06:19:53\n"
     ]
    },
    {
     "name": "stderr",
     "output_type": "stream",
     "text": [
      "100%|██████████| 11/11 [00:03<00:00,  3.09it/s, loss=0.0369]\n",
      " 67%|██████▋   | 2/3 [00:00<00:00, 12.23it/s, loss=0.0255]"
     ]
    },
    {
     "name": "stdout",
     "output_type": "stream",
     "text": [
      "Loss: 0.0369 | dice: 1.0000\n",
      "Starting epoch: 26 | phase: val | ⏰: 06:19:57\n"
     ]
    },
    {
     "name": "stderr",
     "output_type": "stream",
     "text": [
      "100%|██████████| 3/3 [00:00<00:00, 13.29it/s, loss=0.0254]\n"
     ]
    },
    {
     "name": "stdout",
     "output_type": "stream",
     "text": [
      "Loss: 0.0254 | dice: 1.0000\n",
      "* New optimal found according to Validation loss!, saving state *\n"
     ]
    },
    {
     "name": "stderr",
     "output_type": "stream",
     "text": [
      "\r",
      "  0%|          | 0/11 [00:00<?, ?it/s]"
     ]
    },
    {
     "name": "stdout",
     "output_type": "stream",
     "text": [
      "\n",
      "Starting epoch: 27 | phase: train | ⏰: 06:20:00\n"
     ]
    },
    {
     "name": "stderr",
     "output_type": "stream",
     "text": [
      "100%|██████████| 11/11 [00:03<00:00,  3.08it/s, loss=0.0357]\n",
      " 67%|██████▋   | 2/3 [00:00<00:00, 12.32it/s, loss=0.0252]"
     ]
    },
    {
     "name": "stdout",
     "output_type": "stream",
     "text": [
      "Loss: 0.0357 | dice: 1.0000\n",
      "Starting epoch: 27 | phase: val | ⏰: 06:20:03\n"
     ]
    },
    {
     "name": "stderr",
     "output_type": "stream",
     "text": [
      "100%|██████████| 3/3 [00:00<00:00, 13.35it/s, loss=0.0256]\n",
      "  0%|          | 0/11 [00:00<?, ?it/s]"
     ]
    },
    {
     "name": "stdout",
     "output_type": "stream",
     "text": [
      "Loss: 0.0256 | dice: 1.0000\n",
      "\n",
      "Starting epoch: 28 | phase: train | ⏰: 06:20:04\n"
     ]
    },
    {
     "name": "stderr",
     "output_type": "stream",
     "text": [
      "100%|██████████| 11/11 [00:03<00:00,  3.17it/s, loss=0.0324]\n",
      " 67%|██████▋   | 2/3 [00:00<00:00, 12.49it/s, loss=0.0272]"
     ]
    },
    {
     "name": "stdout",
     "output_type": "stream",
     "text": [
      "Loss: 0.0324 | dice: 1.0000\n",
      "Starting epoch: 28 | phase: val | ⏰: 06:20:07\n"
     ]
    },
    {
     "name": "stderr",
     "output_type": "stream",
     "text": [
      "100%|██████████| 3/3 [00:00<00:00, 13.47it/s, loss=0.0264]\n",
      "  0%|          | 0/11 [00:00<?, ?it/s]"
     ]
    },
    {
     "name": "stdout",
     "output_type": "stream",
     "text": [
      "Loss: 0.0264 | dice: 1.0000\n",
      "\n",
      "Starting epoch: 29 | phase: train | ⏰: 06:20:07\n"
     ]
    },
    {
     "name": "stderr",
     "output_type": "stream",
     "text": [
      "100%|██████████| 11/11 [00:03<00:00,  3.12it/s, loss=0.0337]\n",
      " 67%|██████▋   | 2/3 [00:00<00:00, 12.34it/s, loss=0.0259]"
     ]
    },
    {
     "name": "stdout",
     "output_type": "stream",
     "text": [
      "Loss: 0.0337 | dice: 1.0000\n",
      "Starting epoch: 29 | phase: val | ⏰: 06:20:11\n"
     ]
    },
    {
     "name": "stderr",
     "output_type": "stream",
     "text": [
      "100%|██████████| 3/3 [00:00<00:00, 13.24it/s, loss=0.028] \n",
      "  0%|          | 0/11 [00:00<?, ?it/s]"
     ]
    },
    {
     "name": "stdout",
     "output_type": "stream",
     "text": [
      "Loss: 0.0280 | dice: 1.0000\n",
      "\n",
      "Starting epoch: 30 | phase: train | ⏰: 06:20:11\n"
     ]
    },
    {
     "name": "stderr",
     "output_type": "stream",
     "text": [
      "100%|██████████| 11/11 [00:02<00:00,  3.81it/s, loss=0.0283]\n",
      " 67%|██████▋   | 2/3 [00:00<00:00, 12.44it/s, loss=0.029]"
     ]
    },
    {
     "name": "stdout",
     "output_type": "stream",
     "text": [
      "Loss: 0.0283 | dice: 1.0000\n",
      "Starting epoch: 30 | phase: val | ⏰: 06:20:14\n"
     ]
    },
    {
     "name": "stderr",
     "output_type": "stream",
     "text": [
      "100%|██████████| 3/3 [00:00<00:00, 13.45it/s, loss=0.0295]\n",
      "  0%|          | 0/11 [00:00<?, ?it/s]"
     ]
    },
    {
     "name": "stdout",
     "output_type": "stream",
     "text": [
      "Loss: 0.0295 | dice: 1.0000\n",
      "\n",
      "Starting epoch: 31 | phase: train | ⏰: 06:20:14\n"
     ]
    },
    {
     "name": "stderr",
     "output_type": "stream",
     "text": [
      "100%|██████████| 11/11 [00:02<00:00,  3.77it/s, loss=0.0285]\n",
      " 67%|██████▋   | 2/3 [00:00<00:00, 12.23it/s, loss=0.0251]"
     ]
    },
    {
     "name": "stdout",
     "output_type": "stream",
     "text": [
      "Loss: 0.0285 | dice: 1.0000\n",
      "Starting epoch: 31 | phase: val | ⏰: 06:20:17\n"
     ]
    },
    {
     "name": "stderr",
     "output_type": "stream",
     "text": [
      "100%|██████████| 3/3 [00:00<00:00, 13.28it/s, loss=0.0255]\n",
      "  0%|          | 0/11 [00:00<?, ?it/s]"
     ]
    },
    {
     "name": "stdout",
     "output_type": "stream",
     "text": [
      "Loss: 0.0255 | dice: 1.0000\n",
      "Epoch    32: reducing learning rate of group 0 to 5.0000e-04.\n",
      "\n",
      "Starting epoch: 32 | phase: train | ⏰: 06:20:18\n"
     ]
    },
    {
     "name": "stderr",
     "output_type": "stream",
     "text": [
      "100%|██████████| 11/11 [00:02<00:00,  3.80it/s, loss=0.027] \n",
      " 67%|██████▋   | 2/3 [00:00<00:00, 12.26it/s, loss=0.0236]"
     ]
    },
    {
     "name": "stdout",
     "output_type": "stream",
     "text": [
      "Loss: 0.0270 | dice: 1.0000\n",
      "Starting epoch: 32 | phase: val | ⏰: 06:20:21\n"
     ]
    },
    {
     "name": "stderr",
     "output_type": "stream",
     "text": [
      "100%|██████████| 3/3 [00:00<00:00, 13.30it/s, loss=0.0255]\n",
      "  0%|          | 0/11 [00:00<?, ?it/s]"
     ]
    },
    {
     "name": "stdout",
     "output_type": "stream",
     "text": [
      "Loss: 0.0255 | dice: 1.0000\n",
      "\n",
      "Starting epoch: 33 | phase: train | ⏰: 06:20:21\n"
     ]
    },
    {
     "name": "stderr",
     "output_type": "stream",
     "text": [
      "100%|██████████| 11/11 [00:02<00:00,  3.81it/s, loss=0.0276]\n",
      " 67%|██████▋   | 2/3 [00:00<00:00, 12.39it/s, loss=0.0269]"
     ]
    },
    {
     "name": "stdout",
     "output_type": "stream",
     "text": [
      "Loss: 0.0276 | dice: 1.0000\n",
      "Starting epoch: 33 | phase: val | ⏰: 06:20:24\n"
     ]
    },
    {
     "name": "stderr",
     "output_type": "stream",
     "text": [
      "100%|██████████| 3/3 [00:00<00:00, 13.38it/s, loss=0.0268]\n",
      "  0%|          | 0/11 [00:00<?, ?it/s]"
     ]
    },
    {
     "name": "stdout",
     "output_type": "stream",
     "text": [
      "Loss: 0.0268 | dice: 1.0000\n",
      "\n",
      "Starting epoch: 34 | phase: train | ⏰: 06:20:24\n"
     ]
    },
    {
     "name": "stderr",
     "output_type": "stream",
     "text": [
      "100%|██████████| 11/11 [00:02<00:00,  3.82it/s, loss=0.0268]\n",
      " 67%|██████▋   | 2/3 [00:00<00:00, 12.40it/s, loss=0.0242]"
     ]
    },
    {
     "name": "stdout",
     "output_type": "stream",
     "text": [
      "Loss: 0.0268 | dice: 1.0000\n",
      "Starting epoch: 34 | phase: val | ⏰: 06:20:27\n"
     ]
    },
    {
     "name": "stderr",
     "output_type": "stream",
     "text": [
      "100%|██████████| 3/3 [00:00<00:00, 13.41it/s, loss=0.0262]\n",
      "  0%|          | 0/11 [00:00<?, ?it/s]"
     ]
    },
    {
     "name": "stdout",
     "output_type": "stream",
     "text": [
      "Loss: 0.0262 | dice: 1.0000\n",
      "\n",
      "Starting epoch: 35 | phase: train | ⏰: 06:20:27\n"
     ]
    },
    {
     "name": "stderr",
     "output_type": "stream",
     "text": [
      "100%|██████████| 11/11 [00:02<00:00,  3.81it/s, loss=0.0266]\n",
      " 67%|██████▋   | 2/3 [00:00<00:00, 12.44it/s, loss=0.0253]"
     ]
    },
    {
     "name": "stdout",
     "output_type": "stream",
     "text": [
      "Loss: 0.0266 | dice: 1.0000\n",
      "Starting epoch: 35 | phase: val | ⏰: 06:20:30\n"
     ]
    },
    {
     "name": "stderr",
     "output_type": "stream",
     "text": [
      "100%|██████████| 3/3 [00:00<00:00, 13.49it/s, loss=0.0243]\n"
     ]
    },
    {
     "name": "stdout",
     "output_type": "stream",
     "text": [
      "Loss: 0.0243 | dice: 1.0000\n",
      "* New optimal found according to Validation loss!, saving state *\n"
     ]
    },
    {
     "name": "stderr",
     "output_type": "stream",
     "text": [
      "\r",
      "  0%|          | 0/11 [00:00<?, ?it/s]"
     ]
    },
    {
     "name": "stdout",
     "output_type": "stream",
     "text": [
      "\n",
      "Starting epoch: 36 | phase: train | ⏰: 06:20:33\n"
     ]
    },
    {
     "name": "stderr",
     "output_type": "stream",
     "text": [
      "100%|██████████| 11/11 [00:02<00:00,  3.74it/s, loss=0.0267]\n",
      " 67%|██████▋   | 2/3 [00:00<00:00, 12.35it/s, loss=0.0246]"
     ]
    },
    {
     "name": "stdout",
     "output_type": "stream",
     "text": [
      "Loss: 0.0267 | dice: 1.0000\n",
      "Starting epoch: 36 | phase: val | ⏰: 06:20:36\n"
     ]
    },
    {
     "name": "stderr",
     "output_type": "stream",
     "text": [
      "100%|██████████| 3/3 [00:00<00:00, 13.28it/s, loss=0.0243]\n"
     ]
    },
    {
     "name": "stdout",
     "output_type": "stream",
     "text": [
      "Loss: 0.0243 | dice: 1.0000\n",
      "* New optimal found according to Validation loss!, saving state *\n"
     ]
    },
    {
     "name": "stderr",
     "output_type": "stream",
     "text": [
      "\r",
      "  0%|          | 0/11 [00:00<?, ?it/s]"
     ]
    },
    {
     "name": "stdout",
     "output_type": "stream",
     "text": [
      "\n",
      "Starting epoch: 37 | phase: train | ⏰: 06:20:39\n"
     ]
    },
    {
     "name": "stderr",
     "output_type": "stream",
     "text": [
      "100%|██████████| 11/11 [00:02<00:00,  3.72it/s, loss=0.0262]\n",
      " 67%|██████▋   | 2/3 [00:00<00:00, 12.46it/s, loss=0.0272]"
     ]
    },
    {
     "name": "stdout",
     "output_type": "stream",
     "text": [
      "Loss: 0.0262 | dice: 1.0000\n",
      "Starting epoch: 37 | phase: val | ⏰: 06:20:42\n"
     ]
    },
    {
     "name": "stderr",
     "output_type": "stream",
     "text": [
      "100%|██████████| 3/3 [00:00<00:00, 13.47it/s, loss=0.0257]\n",
      "  0%|          | 0/11 [00:00<?, ?it/s]"
     ]
    },
    {
     "name": "stdout",
     "output_type": "stream",
     "text": [
      "Loss: 0.0257 | dice: 1.0000\n",
      "\n",
      "Starting epoch: 38 | phase: train | ⏰: 06:20:42\n"
     ]
    },
    {
     "name": "stderr",
     "output_type": "stream",
     "text": [
      "100%|██████████| 11/11 [00:02<00:00,  3.82it/s, loss=0.0263]\n",
      " 67%|██████▋   | 2/3 [00:00<00:00, 12.44it/s, loss=0.0237]"
     ]
    },
    {
     "name": "stdout",
     "output_type": "stream",
     "text": [
      "Loss: 0.0263 | dice: 1.0000\n",
      "Starting epoch: 38 | phase: val | ⏰: 06:20:45\n"
     ]
    },
    {
     "name": "stderr",
     "output_type": "stream",
     "text": [
      "100%|██████████| 3/3 [00:00<00:00, 13.45it/s, loss=0.0236]\n"
     ]
    },
    {
     "name": "stdout",
     "output_type": "stream",
     "text": [
      "Loss: 0.0236 | dice: 1.0000\n",
      "* New optimal found according to Validation loss!, saving state *\n"
     ]
    },
    {
     "name": "stderr",
     "output_type": "stream",
     "text": [
      "\r",
      "  0%|          | 0/11 [00:00<?, ?it/s]"
     ]
    },
    {
     "name": "stdout",
     "output_type": "stream",
     "text": [
      "\n",
      "Starting epoch: 39 | phase: train | ⏰: 06:20:48\n"
     ]
    },
    {
     "name": "stderr",
     "output_type": "stream",
     "text": [
      "100%|██████████| 11/11 [00:02<00:00,  3.68it/s, loss=0.0254]\n",
      " 67%|██████▋   | 2/3 [00:00<00:00, 12.27it/s, loss=0.0239]"
     ]
    },
    {
     "name": "stdout",
     "output_type": "stream",
     "text": [
      "Loss: 0.0254 | dice: 1.0000\n",
      "Starting epoch: 39 | phase: val | ⏰: 06:20:51\n"
     ]
    },
    {
     "name": "stderr",
     "output_type": "stream",
     "text": [
      "100%|██████████| 3/3 [00:00<00:00, 13.31it/s, loss=0.0231]\n"
     ]
    },
    {
     "name": "stdout",
     "output_type": "stream",
     "text": [
      "Loss: 0.0231 | dice: 1.0000\n",
      "* New optimal found according to Validation loss!, saving state *\n"
     ]
    },
    {
     "name": "stderr",
     "output_type": "stream",
     "text": [
      "\r",
      "  0%|          | 0/11 [00:00<?, ?it/s]"
     ]
    },
    {
     "name": "stdout",
     "output_type": "stream",
     "text": [
      "\n",
      "Starting epoch: 40 | phase: train | ⏰: 06:20:54\n"
     ]
    },
    {
     "name": "stderr",
     "output_type": "stream",
     "text": [
      "100%|██████████| 11/11 [00:03<00:00,  3.07it/s, loss=0.0273]\n",
      " 67%|██████▋   | 2/3 [00:00<00:00, 12.34it/s, loss=0.0232]"
     ]
    },
    {
     "name": "stdout",
     "output_type": "stream",
     "text": [
      "Loss: 0.0273 | dice: 1.0000\n",
      "Starting epoch: 40 | phase: val | ⏰: 06:20:57\n"
     ]
    },
    {
     "name": "stderr",
     "output_type": "stream",
     "text": [
      "100%|██████████| 3/3 [00:00<00:00, 13.35it/s, loss=0.0226]\n"
     ]
    },
    {
     "name": "stdout",
     "output_type": "stream",
     "text": [
      "Loss: 0.0226 | dice: 1.0000\n",
      "* New optimal found according to Validation loss!, saving state *\n"
     ]
    },
    {
     "name": "stderr",
     "output_type": "stream",
     "text": [
      "\r",
      "  0%|          | 0/11 [00:00<?, ?it/s]"
     ]
    },
    {
     "name": "stdout",
     "output_type": "stream",
     "text": [
      "\n",
      "Starting epoch: 41 | phase: train | ⏰: 06:21:00\n"
     ]
    },
    {
     "name": "stderr",
     "output_type": "stream",
     "text": [
      "100%|██████████| 11/11 [00:03<00:00,  3.08it/s, loss=0.0265]\n",
      " 67%|██████▋   | 2/3 [00:00<00:00, 12.32it/s, loss=0.0226]"
     ]
    },
    {
     "name": "stdout",
     "output_type": "stream",
     "text": [
      "Loss: 0.0265 | dice: 1.0000\n",
      "Starting epoch: 41 | phase: val | ⏰: 06:21:04\n"
     ]
    },
    {
     "name": "stderr",
     "output_type": "stream",
     "text": [
      "100%|██████████| 3/3 [00:00<00:00, 13.27it/s, loss=0.0219]\n"
     ]
    },
    {
     "name": "stdout",
     "output_type": "stream",
     "text": [
      "Loss: 0.0219 | dice: 1.0000\n",
      "* New optimal found according to Validation loss!, saving state *\n"
     ]
    },
    {
     "name": "stderr",
     "output_type": "stream",
     "text": [
      "\r",
      "  0%|          | 0/11 [00:00<?, ?it/s]"
     ]
    },
    {
     "name": "stdout",
     "output_type": "stream",
     "text": [
      "\n",
      "Starting epoch: 42 | phase: train | ⏰: 06:21:06\n"
     ]
    },
    {
     "name": "stderr",
     "output_type": "stream",
     "text": [
      "100%|██████████| 11/11 [00:03<00:00,  3.10it/s, loss=0.026] \n",
      " 67%|██████▋   | 2/3 [00:00<00:00, 12.50it/s, loss=0.0231]"
     ]
    },
    {
     "name": "stdout",
     "output_type": "stream",
     "text": [
      "Loss: 0.0260 | dice: 1.0000\n",
      "Starting epoch: 42 | phase: val | ⏰: 06:21:10\n"
     ]
    },
    {
     "name": "stderr",
     "output_type": "stream",
     "text": [
      "100%|██████████| 3/3 [00:00<00:00, 13.52it/s, loss=0.0221]\n",
      "  0%|          | 0/11 [00:00<?, ?it/s]"
     ]
    },
    {
     "name": "stdout",
     "output_type": "stream",
     "text": [
      "Loss: 0.0221 | dice: 1.0000\n",
      "\n",
      "Starting epoch: 43 | phase: train | ⏰: 06:21:10\n"
     ]
    },
    {
     "name": "stderr",
     "output_type": "stream",
     "text": [
      "100%|██████████| 11/11 [00:03<00:00,  3.14it/s, loss=0.0268]\n",
      " 67%|██████▋   | 2/3 [00:00<00:00, 12.45it/s, loss=0.0217]"
     ]
    },
    {
     "name": "stdout",
     "output_type": "stream",
     "text": [
      "Loss: 0.0268 | dice: 1.0000\n",
      "Starting epoch: 43 | phase: val | ⏰: 06:21:14\n"
     ]
    },
    {
     "name": "stderr",
     "output_type": "stream",
     "text": [
      "100%|██████████| 3/3 [00:00<00:00, 13.38it/s, loss=0.0218]\n"
     ]
    },
    {
     "name": "stdout",
     "output_type": "stream",
     "text": [
      "Loss: 0.0218 | dice: 1.0000\n",
      "* New optimal found according to Validation loss!, saving state *\n"
     ]
    },
    {
     "name": "stderr",
     "output_type": "stream",
     "text": [
      "\r",
      "  0%|          | 0/11 [00:00<?, ?it/s]"
     ]
    },
    {
     "name": "stdout",
     "output_type": "stream",
     "text": [
      "\n",
      "Starting epoch: 44 | phase: train | ⏰: 06:21:17\n"
     ]
    },
    {
     "name": "stderr",
     "output_type": "stream",
     "text": [
      "100%|██████████| 11/11 [00:03<00:00,  3.11it/s, loss=0.0256]\n",
      " 67%|██████▋   | 2/3 [00:00<00:00, 12.33it/s, loss=0.021]"
     ]
    },
    {
     "name": "stdout",
     "output_type": "stream",
     "text": [
      "Loss: 0.0256 | dice: 1.0000\n",
      "Starting epoch: 44 | phase: val | ⏰: 06:21:20\n"
     ]
    },
    {
     "name": "stderr",
     "output_type": "stream",
     "text": [
      "100%|██████████| 3/3 [00:00<00:00, 13.34it/s, loss=0.0219]\n",
      "  0%|          | 0/11 [00:00<?, ?it/s]"
     ]
    },
    {
     "name": "stdout",
     "output_type": "stream",
     "text": [
      "Loss: 0.0219 | dice: 1.0000\n",
      "\n",
      "Starting epoch: 45 | phase: train | ⏰: 06:21:21\n"
     ]
    },
    {
     "name": "stderr",
     "output_type": "stream",
     "text": [
      "100%|██████████| 11/11 [00:03<00:00,  3.16it/s, loss=0.0248]\n",
      " 67%|██████▋   | 2/3 [00:00<00:00, 12.32it/s, loss=0.0232]"
     ]
    },
    {
     "name": "stdout",
     "output_type": "stream",
     "text": [
      "Loss: 0.0248 | dice: 1.0000\n",
      "Starting epoch: 45 | phase: val | ⏰: 06:21:24\n"
     ]
    },
    {
     "name": "stderr",
     "output_type": "stream",
     "text": [
      "100%|██████████| 3/3 [00:00<00:00, 13.36it/s, loss=0.0228]\n",
      "  0%|          | 0/11 [00:00<?, ?it/s]"
     ]
    },
    {
     "name": "stdout",
     "output_type": "stream",
     "text": [
      "Loss: 0.0228 | dice: 1.0000\n",
      "\n",
      "Starting epoch: 46 | phase: train | ⏰: 06:21:24\n"
     ]
    },
    {
     "name": "stderr",
     "output_type": "stream",
     "text": [
      "100%|██████████| 11/11 [00:03<00:00,  3.14it/s, loss=0.025] \n",
      " 67%|██████▋   | 2/3 [00:00<00:00, 12.24it/s, loss=0.0204]"
     ]
    },
    {
     "name": "stdout",
     "output_type": "stream",
     "text": [
      "Loss: 0.0250 | dice: 1.0000\n",
      "Starting epoch: 46 | phase: val | ⏰: 06:21:28\n"
     ]
    },
    {
     "name": "stderr",
     "output_type": "stream",
     "text": [
      "100%|██████████| 3/3 [00:00<00:00, 13.26it/s, loss=0.021] \n"
     ]
    },
    {
     "name": "stdout",
     "output_type": "stream",
     "text": [
      "Loss: 0.0210 | dice: 1.0000\n",
      "* New optimal found according to Validation loss!, saving state *\n"
     ]
    },
    {
     "name": "stderr",
     "output_type": "stream",
     "text": [
      "\r",
      "  0%|          | 0/11 [00:00<?, ?it/s]"
     ]
    },
    {
     "name": "stdout",
     "output_type": "stream",
     "text": [
      "\n",
      "Starting epoch: 47 | phase: train | ⏰: 06:21:31\n"
     ]
    },
    {
     "name": "stderr",
     "output_type": "stream",
     "text": [
      "100%|██████████| 11/11 [00:03<00:00,  3.11it/s, loss=0.0242]\n",
      " 67%|██████▋   | 2/3 [00:00<00:00, 12.38it/s, loss=0.021]"
     ]
    },
    {
     "name": "stdout",
     "output_type": "stream",
     "text": [
      "Loss: 0.0242 | dice: 1.0000\n",
      "Starting epoch: 47 | phase: val | ⏰: 06:21:34\n"
     ]
    },
    {
     "name": "stderr",
     "output_type": "stream",
     "text": [
      "100%|██████████| 3/3 [00:00<00:00, 13.37it/s, loss=0.021]\n"
     ]
    },
    {
     "name": "stdout",
     "output_type": "stream",
     "text": [
      "Loss: 0.0210 | dice: 1.0000\n",
      "* New optimal found according to Validation loss!, saving state *\n"
     ]
    },
    {
     "name": "stderr",
     "output_type": "stream",
     "text": [
      "\r",
      "  0%|          | 0/11 [00:00<?, ?it/s]"
     ]
    },
    {
     "name": "stdout",
     "output_type": "stream",
     "text": [
      "\n",
      "Starting epoch: 48 | phase: train | ⏰: 06:21:37\n"
     ]
    },
    {
     "name": "stderr",
     "output_type": "stream",
     "text": [
      "100%|██████████| 11/11 [00:03<00:00,  3.12it/s, loss=0.0252]\n",
      " 67%|██████▋   | 2/3 [00:00<00:00, 12.37it/s, loss=0.0219]"
     ]
    },
    {
     "name": "stdout",
     "output_type": "stream",
     "text": [
      "Loss: 0.0252 | dice: 1.0000\n",
      "Starting epoch: 48 | phase: val | ⏰: 06:21:41\n"
     ]
    },
    {
     "name": "stderr",
     "output_type": "stream",
     "text": [
      "100%|██████████| 3/3 [00:00<00:00, 13.40it/s, loss=0.0216]\n",
      "  0%|          | 0/11 [00:00<?, ?it/s]"
     ]
    },
    {
     "name": "stdout",
     "output_type": "stream",
     "text": [
      "Loss: 0.0216 | dice: 1.0000\n",
      "\n",
      "Starting epoch: 49 | phase: train | ⏰: 06:21:41\n"
     ]
    },
    {
     "name": "stderr",
     "output_type": "stream",
     "text": [
      "100%|██████████| 11/11 [00:03<00:00,  3.18it/s, loss=0.0257]\n",
      " 67%|██████▋   | 2/3 [00:00<00:00, 12.32it/s, loss=0.0214]"
     ]
    },
    {
     "name": "stdout",
     "output_type": "stream",
     "text": [
      "Loss: 0.0257 | dice: 1.0000\n",
      "Starting epoch: 49 | phase: val | ⏰: 06:21:44\n"
     ]
    },
    {
     "name": "stderr",
     "output_type": "stream",
     "text": [
      "100%|██████████| 3/3 [00:00<00:00, 13.30it/s, loss=0.0212]\n",
      "  0%|          | 0/11 [00:00<?, ?it/s]"
     ]
    },
    {
     "name": "stdout",
     "output_type": "stream",
     "text": [
      "Loss: 0.0212 | dice: 1.0000\n",
      "\n",
      "Starting epoch: 50 | phase: train | ⏰: 06:21:45\n"
     ]
    },
    {
     "name": "stderr",
     "output_type": "stream",
     "text": [
      "100%|██████████| 11/11 [00:03<00:00,  3.18it/s, loss=0.0249]\n",
      " 67%|██████▋   | 2/3 [00:00<00:00, 12.27it/s, loss=0.0226]"
     ]
    },
    {
     "name": "stdout",
     "output_type": "stream",
     "text": [
      "Loss: 0.0249 | dice: 1.0000\n",
      "Starting epoch: 50 | phase: val | ⏰: 06:21:48\n"
     ]
    },
    {
     "name": "stderr",
     "output_type": "stream",
     "text": [
      "100%|██████████| 3/3 [00:00<00:00, 13.02it/s, loss=0.0216]\n",
      "  0%|          | 0/11 [00:00<?, ?it/s]"
     ]
    },
    {
     "name": "stdout",
     "output_type": "stream",
     "text": [
      "Loss: 0.0216 | dice: 1.0000\n",
      "\n",
      "Starting epoch: 51 | phase: train | ⏰: 06:21:48\n"
     ]
    },
    {
     "name": "stderr",
     "output_type": "stream",
     "text": [
      "100%|██████████| 11/11 [00:03<00:00,  3.14it/s, loss=0.0247]\n",
      " 67%|██████▋   | 2/3 [00:00<00:00, 12.47it/s, loss=0.0215]"
     ]
    },
    {
     "name": "stdout",
     "output_type": "stream",
     "text": [
      "Loss: 0.0247 | dice: 1.0000\n",
      "Starting epoch: 51 | phase: val | ⏰: 06:21:52\n"
     ]
    },
    {
     "name": "stderr",
     "output_type": "stream",
     "text": [
      "100%|██████████| 3/3 [00:00<00:00, 13.46it/s, loss=0.0223]\n",
      "  0%|          | 0/11 [00:00<?, ?it/s]"
     ]
    },
    {
     "name": "stdout",
     "output_type": "stream",
     "text": [
      "Loss: 0.0223 | dice: 1.0000\n",
      "\n",
      "Starting epoch: 52 | phase: train | ⏰: 06:21:52\n"
     ]
    },
    {
     "name": "stderr",
     "output_type": "stream",
     "text": [
      "100%|██████████| 11/11 [00:03<00:00,  3.18it/s, loss=0.024]\n",
      " 67%|██████▋   | 2/3 [00:00<00:00, 12.37it/s, loss=0.0206]"
     ]
    },
    {
     "name": "stdout",
     "output_type": "stream",
     "text": [
      "Loss: 0.0240 | dice: 1.0000\n",
      "Starting epoch: 52 | phase: val | ⏰: 06:21:56\n"
     ]
    },
    {
     "name": "stderr",
     "output_type": "stream",
     "text": [
      "100%|██████████| 3/3 [00:00<00:00, 13.37it/s, loss=0.0203]\n"
     ]
    },
    {
     "name": "stdout",
     "output_type": "stream",
     "text": [
      "Loss: 0.0203 | dice: 1.0000\n",
      "* New optimal found according to Validation loss!, saving state *\n"
     ]
    },
    {
     "name": "stderr",
     "output_type": "stream",
     "text": [
      "\r",
      "  0%|          | 0/11 [00:00<?, ?it/s]"
     ]
    },
    {
     "name": "stdout",
     "output_type": "stream",
     "text": [
      "\n",
      "Starting epoch: 53 | phase: train | ⏰: 06:21:58\n"
     ]
    },
    {
     "name": "stderr",
     "output_type": "stream",
     "text": [
      "100%|██████████| 11/11 [00:03<00:00,  3.10it/s, loss=0.0231]\n",
      " 67%|██████▋   | 2/3 [00:00<00:00, 12.30it/s, loss=0.0205]"
     ]
    },
    {
     "name": "stdout",
     "output_type": "stream",
     "text": [
      "Loss: 0.0231 | dice: 1.0000\n",
      "Starting epoch: 53 | phase: val | ⏰: 06:22:02\n"
     ]
    },
    {
     "name": "stderr",
     "output_type": "stream",
     "text": [
      "100%|██████████| 3/3 [00:00<00:00, 13.32it/s, loss=0.0202]\n"
     ]
    },
    {
     "name": "stdout",
     "output_type": "stream",
     "text": [
      "Loss: 0.0202 | dice: 1.0000\n",
      "* New optimal found according to Validation loss!, saving state *\n"
     ]
    },
    {
     "name": "stderr",
     "output_type": "stream",
     "text": [
      "\r",
      "  0%|          | 0/11 [00:00<?, ?it/s]"
     ]
    },
    {
     "name": "stdout",
     "output_type": "stream",
     "text": [
      "\n",
      "Starting epoch: 54 | phase: train | ⏰: 06:22:05\n"
     ]
    },
    {
     "name": "stderr",
     "output_type": "stream",
     "text": [
      "100%|██████████| 11/11 [00:03<00:00,  3.13it/s, loss=0.0223]\n",
      "  0%|          | 0/3 [00:00<?, ?it/s, loss=0.0212]"
     ]
    },
    {
     "name": "stdout",
     "output_type": "stream",
     "text": [
      "Loss: 0.0223 | dice: 1.0000\n",
      "Starting epoch: 54 | phase: val | ⏰: 06:22:08\n"
     ]
    },
    {
     "name": "stderr",
     "output_type": "stream",
     "text": [
      "100%|██████████| 3/3 [00:00<00:00, 13.38it/s, loss=0.0212]\n",
      "  0%|          | 0/11 [00:00<?, ?it/s]"
     ]
    },
    {
     "name": "stdout",
     "output_type": "stream",
     "text": [
      "Loss: 0.0212 | dice: 1.0000\n",
      "\n",
      "Starting epoch: 55 | phase: train | ⏰: 06:22:09\n"
     ]
    },
    {
     "name": "stderr",
     "output_type": "stream",
     "text": [
      "100%|██████████| 11/11 [00:03<00:00,  3.19it/s, loss=0.0239]\n",
      " 67%|██████▋   | 2/3 [00:00<00:00, 12.48it/s, loss=0.0206]"
     ]
    },
    {
     "name": "stdout",
     "output_type": "stream",
     "text": [
      "Loss: 0.0239 | dice: 1.0000\n",
      "Starting epoch: 55 | phase: val | ⏰: 06:22:12\n"
     ]
    },
    {
     "name": "stderr",
     "output_type": "stream",
     "text": [
      "100%|██████████| 3/3 [00:00<00:00, 13.40it/s, loss=0.02]  \n"
     ]
    },
    {
     "name": "stdout",
     "output_type": "stream",
     "text": [
      "Loss: 0.0200 | dice: 1.0000\n",
      "* New optimal found according to Validation loss!, saving state *\n"
     ]
    },
    {
     "name": "stderr",
     "output_type": "stream",
     "text": [
      "\r",
      "  0%|          | 0/11 [00:00<?, ?it/s]"
     ]
    },
    {
     "name": "stdout",
     "output_type": "stream",
     "text": [
      "\n",
      "Starting epoch: 56 | phase: train | ⏰: 06:22:15\n"
     ]
    },
    {
     "name": "stderr",
     "output_type": "stream",
     "text": [
      "100%|██████████| 11/11 [00:03<00:00,  3.12it/s, loss=0.0246]\n",
      " 67%|██████▋   | 2/3 [00:00<00:00, 12.20it/s, loss=0.0211]"
     ]
    },
    {
     "name": "stdout",
     "output_type": "stream",
     "text": [
      "Loss: 0.0246 | dice: 1.0000\n",
      "Starting epoch: 56 | phase: val | ⏰: 06:22:19\n"
     ]
    },
    {
     "name": "stderr",
     "output_type": "stream",
     "text": [
      "100%|██████████| 3/3 [00:00<00:00, 13.28it/s, loss=0.0206]\n",
      "  0%|          | 0/11 [00:00<?, ?it/s]"
     ]
    },
    {
     "name": "stdout",
     "output_type": "stream",
     "text": [
      "Loss: 0.0206 | dice: 1.0000\n",
      "\n",
      "Starting epoch: 57 | phase: train | ⏰: 06:22:19\n"
     ]
    },
    {
     "name": "stderr",
     "output_type": "stream",
     "text": [
      "100%|██████████| 11/11 [00:03<00:00,  3.15it/s, loss=0.0231]\n",
      " 67%|██████▋   | 2/3 [00:00<00:00, 12.26it/s, loss=0.0204]"
     ]
    },
    {
     "name": "stdout",
     "output_type": "stream",
     "text": [
      "Loss: 0.0231 | dice: 1.0000\n",
      "Starting epoch: 57 | phase: val | ⏰: 06:22:22\n"
     ]
    },
    {
     "name": "stderr",
     "output_type": "stream",
     "text": [
      "100%|██████████| 3/3 [00:00<00:00, 13.31it/s, loss=0.0198]\n"
     ]
    },
    {
     "name": "stdout",
     "output_type": "stream",
     "text": [
      "Loss: 0.0198 | dice: 1.0000\n",
      "* New optimal found according to Validation loss!, saving state *\n"
     ]
    },
    {
     "name": "stderr",
     "output_type": "stream",
     "text": [
      "\r",
      "  0%|          | 0/11 [00:00<?, ?it/s]"
     ]
    },
    {
     "name": "stdout",
     "output_type": "stream",
     "text": [
      "\n",
      "Starting epoch: 58 | phase: train | ⏰: 06:22:25\n"
     ]
    },
    {
     "name": "stderr",
     "output_type": "stream",
     "text": [
      "100%|██████████| 11/11 [00:03<00:00,  3.10it/s, loss=0.0225]\n",
      " 67%|██████▋   | 2/3 [00:00<00:00, 12.34it/s, loss=0.0194]"
     ]
    },
    {
     "name": "stdout",
     "output_type": "stream",
     "text": [
      "Loss: 0.0225 | dice: 1.0000\n",
      "Starting epoch: 58 | phase: val | ⏰: 06:22:29\n"
     ]
    },
    {
     "name": "stderr",
     "output_type": "stream",
     "text": [
      "100%|██████████| 3/3 [00:00<00:00, 13.39it/s, loss=0.0197]\n"
     ]
    },
    {
     "name": "stdout",
     "output_type": "stream",
     "text": [
      "Loss: 0.0197 | dice: 1.0000\n",
      "* New optimal found according to Validation loss!, saving state *\n"
     ]
    },
    {
     "name": "stderr",
     "output_type": "stream",
     "text": [
      "\r",
      "  0%|          | 0/11 [00:00<?, ?it/s]"
     ]
    },
    {
     "name": "stdout",
     "output_type": "stream",
     "text": [
      "\n",
      "Starting epoch: 59 | phase: train | ⏰: 06:22:31\n"
     ]
    },
    {
     "name": "stderr",
     "output_type": "stream",
     "text": [
      "100%|██████████| 11/11 [00:03<00:00,  3.11it/s, loss=0.0227]\n",
      " 67%|██████▋   | 2/3 [00:00<00:00, 12.34it/s, loss=0.0202]"
     ]
    },
    {
     "name": "stdout",
     "output_type": "stream",
     "text": [
      "Loss: 0.0227 | dice: 1.0000\n",
      "Starting epoch: 59 | phase: val | ⏰: 06:22:35\n"
     ]
    },
    {
     "name": "stderr",
     "output_type": "stream",
     "text": [
      "100%|██████████| 3/3 [00:00<00:00, 13.38it/s, loss=0.0203]"
     ]
    },
    {
     "name": "stdout",
     "output_type": "stream",
     "text": [
      "Loss: 0.0203 | dice: 1.0000\n",
      "\n"
     ]
    },
    {
     "name": "stderr",
     "output_type": "stream",
     "text": [
      "\n"
     ]
    }
   ],
   "source": [
    "trainer = Trainer(model = model, optim = 'Ranger', loss = 'Dice', lr = 1e-3, bs = 16, name ='Ranger_Dice_Beta_1')\n",
    "trainer.seed_everything(42)\n",
    "trainer.do_cutmix = False\n",
    "trainer.freeze()\n",
    "trainer.fit(10)\n",
    "trainer.do_cutmix = True\n",
    "trainer.unfreeze()\n",
    "trainer.fit(20)\n",
    "trainer.do_cutmix = False\n",
    "trainer.freeze()\n",
    "trainer.fit(10)\n",
    "trainer.unfreeze()\n",
    "trainer.fit(20)"
   ]
  },
  {
   "cell_type": "code",
   "execution_count": 255,
   "metadata": {},
   "outputs": [],
   "source": [
    "def predict(model_path, img_path, thresh = 0.4):\n",
    "    checkpoint = torch.load(model_path)\n",
    "    model.load_state_dict(checkpoint[\"state_dict\"])\n",
    "    dl_val = provider('val')\n",
    "    for img, y_true in dl_val:\n",
    "        y_preds = model(img.type('torch.cuda.FloatTensor'))\n",
    "        y_true = y_true.squeeze(1).detach().cpu().numpy()\n",
    "        print(y_true.shape)\n",
    "        y_preds = nn.Sigmoid()(y_preds)\n",
    "        y_preds = y_preds.detach().cpu().numpy()\n",
    "        y_preds = (y_preds > 0.7).astype('uint8')\n",
    "        y_preds = y_preds.squeeze(1)\n",
    "        img = img.permute(0, 2, 3, 1)\n",
    "        img = img.detach().cpu().numpy()\n",
    "        break\n",
    "    return y_preds, y_true, img"
   ]
  },
  {
   "cell_type": "code",
   "execution_count": 256,
   "metadata": {},
   "outputs": [
    {
     "name": "stdout",
     "output_type": "stream",
     "text": [
      "(8, 256, 256)\n"
     ]
    }
   ],
   "source": [
    "img_path = 'data/0.jpg'\n",
    "model_path = 'models/Ranger_Dice_Beta_1_best_loss.pth'\n",
    "preds, y_true, img = predict(model_path, img_path)"
   ]
  },
  {
   "cell_type": "code",
   "execution_count": 269,
   "metadata": {},
   "outputs": [
    {
     "data": {
      "image/png": "[encoded data removed]",
      "text/plain": [
       "<Figure size 432x288 with 1 Axes>"
      ]
     },
     "metadata": {
      "needs_background": "light"
     },
     "output_type": "display_data"
    },
    {
     "data": {
      "image/png": "[encoded data removed]",
      "text/plain": [
       "<Figure size 432x288 with 1 Axes>"
      ]
     },
     "metadata": {
      "needs_background": "light"
     },
     "output_type": "display_data"
    },
    {
     "name": "stdout",
     "output_type": "stream",
     "text": [
      "\tTrue \t\t  Predicted\n"
     ]
    },
    {
     "data": {
      "image/png": "[encoded data removed]",
      "text/plain": [
       "<Figure size 432x288 with 1 Axes>"
      ]
     },
     "metadata": {
      "needs_background": "light"
     },
     "output_type": "display_data"
    },
    {
     "data": {
      "image/png": "[encoded data removed]",
      "text/plain": [
       "<Figure size 432x288 with 1 Axes>"
      ]
     },
     "metadata": {
      "needs_background": "light"
     },
     "output_type": "display_data"
    },
    {
     "name": "stdout",
     "output_type": "stream",
     "text": [
      "\tTrue \t\t  Predicted\n"
     ]
    },
    {
     "data": {
      "image/png": "[encoded data removed]",
      "text/plain": [
       "<Figure size 432x288 with 1 Axes>"
      ]
     },
     "metadata": {
      "needs_background": "light"
     },
     "output_type": "display_data"
    },
    {
     "data": {
      "image/png": "[encoded data removed]",
      "text/plain": [
       "<Figure size 432x288 with 1 Axes>"
      ]
     },
     "metadata": {
      "needs_background": "light"
     },
     "output_type": "display_data"
    },
    {
     "name": "stdout",
     "output_type": "stream",
     "text": [
      "\tTrue \t\t  Predicted\n"
     ]
    },
    {
     "data": {
      "image/png": "[encoded data removed]",
      "text/plain": [
       "<Figure size 432x288 with 1 Axes>"
      ]
     },
     "metadata": {
      "needs_background": "light"
     },
     "output_type": "display_data"
    },
    {
     "data": {
      "image/png": "[encoded data removed]",
      "text/plain": [
       "<Figure size 432x288 with 1 Axes>"
      ]
     },
     "metadata": {
      "needs_background": "light"
     },
     "output_type": "display_data"
    },
    {
     "name": "stdout",
     "output_type": "stream",
     "text": [
      "\tTrue \t\t  Predicted\n"
     ]
    },
    {
     "data": {
      "image/png": "[encoded data removed]",
      "text/plain": [
       "<Figure size 432x288 with 1 Axes>"
      ]
     },
     "metadata": {
      "needs_background": "light"
     },
     "output_type": "display_data"
    },
    {
     "data": {
      "image/png": "[encoded data removed]",
      "text/plain": [
       "<Figure size 432x288 with 1 Axes>"
      ]
     },
     "metadata": {
      "needs_background": "light"
     },
     "output_type": "display_data"
    },
    {
     "name": "stdout",
     "output_type": "stream",
     "text": [
      "\tTrue \t\t  Predicted\n"
     ]
    },
    {
     "data": {
      "image/png": "[encoded data removed]",
      "text/plain": [
       "<Figure size 432x288 with 1 Axes>"
      ]
     },
     "metadata": {
      "needs_background": "light"
     },
     "output_type": "display_data"
    },
    {
     "data": {
      "image/png": "[encoded data removed]",
      "text/plain": [
       "<Figure size 432x288 with 1 Axes>"
      ]
     },
     "metadata": {
      "needs_background": "light"
     },
     "output_type": "display_data"
    },
    {
     "name": "stdout",
     "output_type": "stream",
     "text": [
      "\tTrue \t\t  Predicted\n"
     ]
    },
    {
     "data": {
      "image/png": "[encoded data removed]",
      "text/plain": [
       "<Figure size 432x288 with 1 Axes>"
      ]
     },
     "metadata": {
      "needs_background": "light"
     },
     "output_type": "display_data"
    },
    {
     "data": {
      "image/png": "[encoded data removed]",
      "text/plain": [
       "<Figure size 432x288 with 1 Axes>"
      ]
     },
     "metadata": {
      "needs_background": "light"
     },
     "output_type": "display_data"
    },
    {
     "name": "stdout",
     "output_type": "stream",
     "text": [
      "\tTrue \t\t  Predicted\n"
     ]
    },
    {
     "data": {
      "image/png": "[encoded data removed]",
      "text/plain": [
       "<Figure size 432x288 with 1 Axes>"
      ]
     },
     "metadata": {
      "needs_background": "light"
     },
     "output_type": "display_data"
    },
    {
     "data": {
      "image/png": "[encoded data removed]",
      "text/plain": [
       "<Figure size 432x288 with 1 Axes>"
      ]
     },
     "metadata": {
      "needs_background": "light"
     },
     "output_type": "display_data"
    },
    {
     "name": "stdout",
     "output_type": "stream",
     "text": [
      "\tTrue \t\t  Predicted\n"
     ]
    }
   ],
   "source": [
    "for i in range(img.shape[0]):\n",
    "    res = np.hstack([y_true[i], preds[i]])\n",
    "    plt.imshow(img[i])\n",
    "    plt.show()\n",
    "    plt.imshow(res)\n",
    "    plt.show()\n",
    "    print(\"\\tTrue \\t\\t  Predicted\")"
   ]
  },
  {
   "cell_type": "code",
   "execution_count": null,
   "metadata": {},
   "outputs": [],
   "source": []
  }
 ],
 "metadata": {
  "kernelspec": {
   "display_name": "Python 3",
   "language": "python",
   "name": "python3"
  },
  "language_info": {
   "codemirror_mode": {
    "name": "ipython",
    "version": 3
   },
   "file_extension": ".py",
   "mimetype": "text/x-python",
   "name": "python",
   "nbconvert_exporter": "python",
   "pygments_lexer": "ipython3",
   "version": "3.7.3"
  }
 },
 "nbformat": 4,
 "nbformat_minor": 2
}
